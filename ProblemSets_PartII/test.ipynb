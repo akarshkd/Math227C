{
 "cells": [
  {
   "cell_type": "markdown",
   "id": "b0e846ca",
   "metadata": {},
   "source": [
    "# Math 227C R Jupyter test code"
   ]
  },
  {
   "cell_type": "code",
   "execution_count": null,
   "id": "87f7a534",
   "metadata": {
    "vscode": {
     "languageId": "r"
    }
   },
   "outputs": [],
   "source": [
    "x <- 227\n",
    "print(cat(\"Hello from Math \", x, \"!\\n\"))"
   ]
  },
  {
   "cell_type": "code",
   "execution_count": null,
   "id": "747c3392",
   "metadata": {
    "vscode": {
     "languageId": "r"
    }
   },
   "outputs": [],
   "source": [
    "# Generate random numbers\n",
    "# set.seed(123)  # For reproducibility\n",
    "x <- 1:100\n",
    "y <- rnorm(100)\n",
    "\n",
    "# Plot the random numbers\n",
    "plot(x, y, \n",
    "type = \"p\", # points\n",
    "col = \"red\", \n",
    "pch = 16, \n",
    "xlab = \"Index\", \n",
    "ylab = \"Random Values\", \n",
    "main = \"Random Numbers Plot\")\n",
    "\n",
    "# Add a legend\n",
    "legend(\"topright\", legend = \"Random Numbers\", col = \"red\", pch = 16)"
   ]
  },
  {
   "cell_type": "markdown",
   "id": "5a950aaa",
   "metadata": {},
   "source": [
    "## Some extra queries"
   ]
  },
  {
   "cell_type": "code",
   "execution_count": null,
   "id": "cffcf742",
   "metadata": {
    "vscode": {
     "languageId": "r"
    }
   },
   "outputs": [],
   "source": [
    "# In R cell\n",
    "R.home()\n",
    ".libPaths()\n",
    "#Sys.getenv()"
   ]
  },
  {
   "cell_type": "code",
   "execution_count": null,
   "id": "6a040586",
   "metadata": {
    "vscode": {
     "languageId": "r"
    }
   },
   "outputs": [],
   "source": [
    "installed.packages()[,c(\"Package\", \"Version\", \"LibPath\")]\n"
   ]
  },
  {
   "cell_type": "code",
   "execution_count": null,
   "id": "cd5ca8d8",
   "metadata": {
    "vscode": {
     "languageId": "r"
    }
   },
   "outputs": [],
   "source": [
    "\n",
    "library(ggplot2)\n",
    "library(class)  # for knn\n",
    "library(\"glmnet\")\n",
    "library(\"BiocManager\")\n",
    "library(\"ExperimentHub\")\n"
   ]
  }
 ],
 "metadata": {
  "kernelspec": {
   "display_name": "R",
   "language": "R",
   "name": "ir"
  },
  "language_info": {
   "codemirror_mode": "r",
   "file_extension": ".r",
   "mimetype": "text/x-r-source",
   "name": "R",
   "pygments_lexer": "r",
   "version": "4.4.2"
  }
 },
 "nbformat": 4,
 "nbformat_minor": 5
}
