{
 "cells": [
  {
   "cell_type": "markdown",
   "id": "b0e846ca",
   "metadata": {},
   "source": [
    "# Math 227C R Jupyter test code"
   ]
  },
  {
   "cell_type": "code",
   "execution_count": 1,
   "id": "87f7a534",
   "metadata": {
    "vscode": {
     "languageId": "r"
    }
   },
   "outputs": [
    {
     "name": "stdout",
     "output_type": "stream",
     "text": [
      "Hello from Math  227 C!\n",
      "NULL\n"
     ]
    }
   ],
   "source": [
    "x <- 227\n",
    "print(cat(\"Hello from Math \", x, \"C!\\n\"))"
   ]
  },
  {
   "cell_type": "code",
   "execution_count": 2,
   "id": "747c3392",
   "metadata": {
    "vscode": {
     "languageId": "r"
    }
   },
   "outputs": [
    {
     "data": {
      "image/png": "[encoded data removed]",
      "text/plain": [
       "Plot with title \"Random Numbers Plot\""
      ]
     },
     "metadata": {
      "image/png": {
       "height": 420,
       "width": 420
      }
     },
     "output_type": "display_data"
    }
   ],
   "source": [
    "# Generate random numbers\n",
    "# set.seed(123)  # For reproducibility\n",
    "x <- 1:100\n",
    "y <- rnorm(100)\n",
    "\n",
    "# Plot the random numbers\n",
    "plot(x, y, \n",
    "type = \"p\", # points\n",
    "col = \"red\", \n",
    "pch = 16, \n",
    "xlab = \"Index\", \n",
    "ylab = \"Random Values\", \n",
    "main = \"Random Numbers Plot\")\n",
    "\n",
    "# Add a legend\n",
    "legend(\"topright\", legend = \"Random Numbers\", col = \"red\", pch = 16)"
   ]
  },
  {
   "cell_type": "markdown",
   "id": "5a950aaa",
   "metadata": {},
   "source": [
    "## Some extra queries"
   ]
  },
  {
   "cell_type": "code",
   "execution_count": 3,
   "id": "cffcf742",
   "metadata": {
    "vscode": {
     "languageId": "r"
    }
   },
   "outputs": [
    {
     "data": {
      "text/html": [
       "'C:/PROGRA~1/R/R-4.5.0'"
      ],
      "text/latex": [
       "'C:/PROGRA\\textasciitilde{}1/R/R-4.5.0'"
      ],
      "text/markdown": [
       "'C:/PROGRA~1/R/R-4.5.0'"
      ],
      "text/plain": [
       "[1] \"C:/PROGRA~1/R/R-4.5.0\""
      ]
     },
     "metadata": {},
     "output_type": "display_data"
    },
    {
     "data": {
      "text/html": [
       "<style>\n",
       ".list-inline {list-style: none; margin:0; padding: 0}\n",
       ".list-inline>li {display: inline-block}\n",
       ".list-inline>li:not(:last-child)::after {content: \"\\00b7\"; padding: 0 .5ex}\n",
       "</style>\n",
       "<ol class=list-inline><li>'C:/Users/dasha/AppData/Local/R/win-library/4.5'</li><li>'C:/Program Files/R/R-4.5.0/library'</li></ol>\n"
      ],
      "text/latex": [
       "\\begin{enumerate*}\n",
       "\\item 'C:/Users/dasha/AppData/Local/R/win-library/4.5'\n",
       "\\item 'C:/Program Files/R/R-4.5.0/library'\n",
       "\\end{enumerate*}\n"
      ],
      "text/markdown": [
       "1. 'C:/Users/dasha/AppData/Local/R/win-library/4.5'\n",
       "2. 'C:/Program Files/R/R-4.5.0/library'\n",
       "\n",
       "\n"
      ],
      "text/plain": [
       "[1] \"C:/Users/dasha/AppData/Local/R/win-library/4.5\"\n",
       "[2] \"C:/Program Files/R/R-4.5.0/library\"            "
      ]
     },
     "metadata": {},
     "output_type": "display_data"
    }
   ],
   "source": [
    "# In R cell\n",
    "R.home()\n",
    ".libPaths()\n",
    "#Sys.getenv()"
   ]
  },
  {
   "cell_type": "code",
   "execution_count": 4,
   "id": "6a040586",
   "metadata": {
    "vscode": {
     "languageId": "r"
    }
   },
   "outputs": [
    {
     "data": {
      "text/html": [
       "<table class=\"dataframe\">\n",
       "<caption>A matrix: 185 × 3 of type chr</caption>\n",
       "<thead>\n",
       "\t<tr><th></th><th scope=col>Package</th><th scope=col>Version</th><th scope=col>LibPath</th></tr>\n",
       "</thead>\n",
       "<tbody>\n",
       "\t<tr><th scope=row>askpass</th><td>askpass    </td><td>1.2.1  </td><td>C:/Users/dasha/AppData/Local/R/win-library/4.5</td></tr>\n",
       "\t<tr><th scope=row>backports</th><td>backports  </td><td>1.5.0  </td><td>C:/Users/dasha/AppData/Local/R/win-library/4.5</td></tr>\n",
       "\t<tr><th scope=row>base64enc</th><td>base64enc  </td><td>0.1-3  </td><td>C:/Users/dasha/AppData/Local/R/win-library/4.5</td></tr>\n",
       "\t<tr><th scope=row>bit</th><td>bit        </td><td>4.6.0  </td><td>C:/Users/dasha/AppData/Local/R/win-library/4.5</td></tr>\n",
       "\t<tr><th scope=row>bit64</th><td>bit64      </td><td>4.6.0-1</td><td>C:/Users/dasha/AppData/Local/R/win-library/4.5</td></tr>\n",
       "\t<tr><th scope=row>blob</th><td>blob       </td><td>1.2.4  </td><td>C:/Users/dasha/AppData/Local/R/win-library/4.5</td></tr>\n",
       "\t<tr><th scope=row>brew</th><td>brew       </td><td>1.0-10 </td><td>C:/Users/dasha/AppData/Local/R/win-library/4.5</td></tr>\n",
       "\t<tr><th scope=row>brio</th><td>brio       </td><td>1.1.5  </td><td>C:/Users/dasha/AppData/Local/R/win-library/4.5</td></tr>\n",
       "\t<tr><th scope=row>broom</th><td>broom      </td><td>1.0.8  </td><td>C:/Users/dasha/AppData/Local/R/win-library/4.5</td></tr>\n",
       "\t<tr><th scope=row>bslib</th><td>bslib      </td><td>0.9.0  </td><td>C:/Users/dasha/AppData/Local/R/win-library/4.5</td></tr>\n",
       "\t<tr><th scope=row>cachem</th><td>cachem     </td><td>1.1.0  </td><td>C:/Users/dasha/AppData/Local/R/win-library/4.5</td></tr>\n",
       "\t<tr><th scope=row>callr</th><td>callr      </td><td>3.7.6  </td><td>C:/Users/dasha/AppData/Local/R/win-library/4.5</td></tr>\n",
       "\t<tr><th scope=row>cellranger</th><td>cellranger </td><td>1.1.0  </td><td>C:/Users/dasha/AppData/Local/R/win-library/4.5</td></tr>\n",
       "\t<tr><th scope=row>cli</th><td>cli        </td><td>3.6.5  </td><td>C:/Users/dasha/AppData/Local/R/win-library/4.5</td></tr>\n",
       "\t<tr><th scope=row>clipr</th><td>clipr      </td><td>0.8.0  </td><td>C:/Users/dasha/AppData/Local/R/win-library/4.5</td></tr>\n",
       "\t<tr><th scope=row>collections</th><td>collections</td><td>0.3.8  </td><td>C:/Users/dasha/AppData/Local/R/win-library/4.5</td></tr>\n",
       "\t<tr><th scope=row>commonmark</th><td>commonmark </td><td>1.9.5  </td><td>C:/Users/dasha/AppData/Local/R/win-library/4.5</td></tr>\n",
       "\t<tr><th scope=row>conflicted</th><td>conflicted </td><td>1.2.0  </td><td>C:/Users/dasha/AppData/Local/R/win-library/4.5</td></tr>\n",
       "\t<tr><th scope=row>cpp11</th><td>cpp11      </td><td>0.5.2  </td><td>C:/Users/dasha/AppData/Local/R/win-library/4.5</td></tr>\n",
       "\t<tr><th scope=row>crayon</th><td>crayon     </td><td>1.5.3  </td><td>C:/Users/dasha/AppData/Local/R/win-library/4.5</td></tr>\n",
       "\t<tr><th scope=row>credentials</th><td>credentials</td><td>2.0.2  </td><td>C:/Users/dasha/AppData/Local/R/win-library/4.5</td></tr>\n",
       "\t<tr><th scope=row>curl</th><td>curl       </td><td>6.2.2  </td><td>C:/Users/dasha/AppData/Local/R/win-library/4.5</td></tr>\n",
       "\t<tr><th scope=row>data.table</th><td>data.table </td><td>1.17.0 </td><td>C:/Users/dasha/AppData/Local/R/win-library/4.5</td></tr>\n",
       "\t<tr><th scope=row>DBI</th><td>DBI        </td><td>1.2.3  </td><td>C:/Users/dasha/AppData/Local/R/win-library/4.5</td></tr>\n",
       "\t<tr><th scope=row>dbplyr</th><td>dbplyr     </td><td>2.5.0  </td><td>C:/Users/dasha/AppData/Local/R/win-library/4.5</td></tr>\n",
       "\t<tr><th scope=row>desc</th><td>desc       </td><td>1.4.3  </td><td>C:/Users/dasha/AppData/Local/R/win-library/4.5</td></tr>\n",
       "\t<tr><th scope=row>devtools</th><td>devtools   </td><td>2.4.5  </td><td>C:/Users/dasha/AppData/Local/R/win-library/4.5</td></tr>\n",
       "\t<tr><th scope=row>diffobj</th><td>diffobj    </td><td>0.3.6  </td><td>C:/Users/dasha/AppData/Local/R/win-library/4.5</td></tr>\n",
       "\t<tr><th scope=row>digest</th><td>digest     </td><td>0.6.37 </td><td>C:/Users/dasha/AppData/Local/R/win-library/4.5</td></tr>\n",
       "\t<tr><th scope=row>downlit</th><td>downlit    </td><td>0.4.4  </td><td>C:/Users/dasha/AppData/Local/R/win-library/4.5</td></tr>\n",
       "\t<tr><th scope=row>⋮</th><td>⋮</td><td>⋮</td><td>⋮</td></tr>\n",
       "\t<tr><th scope=row>base</th><td>base        </td><td>4.5.0  </td><td>C:/Program Files/R/R-4.5.0/library</td></tr>\n",
       "\t<tr><th scope=row>boot</th><td>boot        </td><td>1.3-31 </td><td>C:/Program Files/R/R-4.5.0/library</td></tr>\n",
       "\t<tr><th scope=row>class</th><td>class       </td><td>7.3-23 </td><td>C:/Program Files/R/R-4.5.0/library</td></tr>\n",
       "\t<tr><th scope=row>cluster</th><td>cluster     </td><td>2.1.8.1</td><td>C:/Program Files/R/R-4.5.0/library</td></tr>\n",
       "\t<tr><th scope=row>codetools</th><td>codetools   </td><td>0.2-20 </td><td>C:/Program Files/R/R-4.5.0/library</td></tr>\n",
       "\t<tr><th scope=row>compiler</th><td>compiler    </td><td>4.5.0  </td><td>C:/Program Files/R/R-4.5.0/library</td></tr>\n",
       "\t<tr><th scope=row>datasets</th><td>datasets    </td><td>4.5.0  </td><td>C:/Program Files/R/R-4.5.0/library</td></tr>\n",
       "\t<tr><th scope=row>foreign</th><td>foreign     </td><td>0.8-90 </td><td>C:/Program Files/R/R-4.5.0/library</td></tr>\n",
       "\t<tr><th scope=row>graphics</th><td>graphics    </td><td>4.5.0  </td><td>C:/Program Files/R/R-4.5.0/library</td></tr>\n",
       "\t<tr><th scope=row>grDevices</th><td>grDevices   </td><td>4.5.0  </td><td>C:/Program Files/R/R-4.5.0/library</td></tr>\n",
       "\t<tr><th scope=row>grid</th><td>grid        </td><td>4.5.0  </td><td>C:/Program Files/R/R-4.5.0/library</td></tr>\n",
       "\t<tr><th scope=row>KernSmooth</th><td>KernSmooth  </td><td>2.23-26</td><td>C:/Program Files/R/R-4.5.0/library</td></tr>\n",
       "\t<tr><th scope=row>lattice</th><td>lattice     </td><td>0.22-6 </td><td>C:/Program Files/R/R-4.5.0/library</td></tr>\n",
       "\t<tr><th scope=row>MASS</th><td>MASS        </td><td>7.3-65 </td><td>C:/Program Files/R/R-4.5.0/library</td></tr>\n",
       "\t<tr><th scope=row>Matrix</th><td>Matrix      </td><td>1.7-3  </td><td>C:/Program Files/R/R-4.5.0/library</td></tr>\n",
       "\t<tr><th scope=row>methods</th><td>methods     </td><td>4.5.0  </td><td>C:/Program Files/R/R-4.5.0/library</td></tr>\n",
       "\t<tr><th scope=row>mgcv</th><td>mgcv        </td><td>1.9-1  </td><td>C:/Program Files/R/R-4.5.0/library</td></tr>\n",
       "\t<tr><th scope=row>nlme</th><td>nlme        </td><td>3.1-168</td><td>C:/Program Files/R/R-4.5.0/library</td></tr>\n",
       "\t<tr><th scope=row>nnet</th><td>nnet        </td><td>7.3-20 </td><td>C:/Program Files/R/R-4.5.0/library</td></tr>\n",
       "\t<tr><th scope=row>parallel</th><td>parallel    </td><td>4.5.0  </td><td>C:/Program Files/R/R-4.5.0/library</td></tr>\n",
       "\t<tr><th scope=row>rpart</th><td>rpart       </td><td>4.1.24 </td><td>C:/Program Files/R/R-4.5.0/library</td></tr>\n",
       "\t<tr><th scope=row>spatial</th><td>spatial     </td><td>7.3-18 </td><td>C:/Program Files/R/R-4.5.0/library</td></tr>\n",
       "\t<tr><th scope=row>splines</th><td>splines     </td><td>4.5.0  </td><td>C:/Program Files/R/R-4.5.0/library</td></tr>\n",
       "\t<tr><th scope=row>stats</th><td>stats       </td><td>4.5.0  </td><td>C:/Program Files/R/R-4.5.0/library</td></tr>\n",
       "\t<tr><th scope=row>stats4</th><td>stats4      </td><td>4.5.0  </td><td>C:/Program Files/R/R-4.5.0/library</td></tr>\n",
       "\t<tr><th scope=row>survival</th><td>survival    </td><td>3.8-3  </td><td>C:/Program Files/R/R-4.5.0/library</td></tr>\n",
       "\t<tr><th scope=row>tcltk</th><td>tcltk       </td><td>4.5.0  </td><td>C:/Program Files/R/R-4.5.0/library</td></tr>\n",
       "\t<tr><th scope=row>tools</th><td>tools       </td><td>4.5.0  </td><td>C:/Program Files/R/R-4.5.0/library</td></tr>\n",
       "\t<tr><th scope=row>translations</th><td>translations</td><td>4.5.0  </td><td>C:/Program Files/R/R-4.5.0/library</td></tr>\n",
       "\t<tr><th scope=row>utils</th><td>utils       </td><td>4.5.0  </td><td>C:/Program Files/R/R-4.5.0/library</td></tr>\n",
       "</tbody>\n",
       "</table>\n"
      ],
      "text/latex": [
       "A matrix: 185 × 3 of type chr\n",
       "\\begin{tabular}{r|lll}\n",
       "  & Package & Version & LibPath\\\\\n",
       "\\hline\n",
       "\taskpass & askpass     & 1.2.1   & C:/Users/dasha/AppData/Local/R/win-library/4.5\\\\\n",
       "\tbackports & backports   & 1.5.0   & C:/Users/dasha/AppData/Local/R/win-library/4.5\\\\\n",
       "\tbase64enc & base64enc   & 0.1-3   & C:/Users/dasha/AppData/Local/R/win-library/4.5\\\\\n",
       "\tbit & bit         & 4.6.0   & C:/Users/dasha/AppData/Local/R/win-library/4.5\\\\\n",
       "\tbit64 & bit64       & 4.6.0-1 & C:/Users/dasha/AppData/Local/R/win-library/4.5\\\\\n",
       "\tblob & blob        & 1.2.4   & C:/Users/dasha/AppData/Local/R/win-library/4.5\\\\\n",
       "\tbrew & brew        & 1.0-10  & C:/Users/dasha/AppData/Local/R/win-library/4.5\\\\\n",
       "\tbrio & brio        & 1.1.5   & C:/Users/dasha/AppData/Local/R/win-library/4.5\\\\\n",
       "\tbroom & broom       & 1.0.8   & C:/Users/dasha/AppData/Local/R/win-library/4.5\\\\\n",
       "\tbslib & bslib       & 0.9.0   & C:/Users/dasha/AppData/Local/R/win-library/4.5\\\\\n",
       "\tcachem & cachem      & 1.1.0   & C:/Users/dasha/AppData/Local/R/win-library/4.5\\\\\n",
       "\tcallr & callr       & 3.7.6   & C:/Users/dasha/AppData/Local/R/win-library/4.5\\\\\n",
       "\tcellranger & cellranger  & 1.1.0   & C:/Users/dasha/AppData/Local/R/win-library/4.5\\\\\n",
       "\tcli & cli         & 3.6.5   & C:/Users/dasha/AppData/Local/R/win-library/4.5\\\\\n",
       "\tclipr & clipr       & 0.8.0   & C:/Users/dasha/AppData/Local/R/win-library/4.5\\\\\n",
       "\tcollections & collections & 0.3.8   & C:/Users/dasha/AppData/Local/R/win-library/4.5\\\\\n",
       "\tcommonmark & commonmark  & 1.9.5   & C:/Users/dasha/AppData/Local/R/win-library/4.5\\\\\n",
       "\tconflicted & conflicted  & 1.2.0   & C:/Users/dasha/AppData/Local/R/win-library/4.5\\\\\n",
       "\tcpp11 & cpp11       & 0.5.2   & C:/Users/dasha/AppData/Local/R/win-library/4.5\\\\\n",
       "\tcrayon & crayon      & 1.5.3   & C:/Users/dasha/AppData/Local/R/win-library/4.5\\\\\n",
       "\tcredentials & credentials & 2.0.2   & C:/Users/dasha/AppData/Local/R/win-library/4.5\\\\\n",
       "\tcurl & curl        & 6.2.2   & C:/Users/dasha/AppData/Local/R/win-library/4.5\\\\\n",
       "\tdata.table & data.table  & 1.17.0  & C:/Users/dasha/AppData/Local/R/win-library/4.5\\\\\n",
       "\tDBI & DBI         & 1.2.3   & C:/Users/dasha/AppData/Local/R/win-library/4.5\\\\\n",
       "\tdbplyr & dbplyr      & 2.5.0   & C:/Users/dasha/AppData/Local/R/win-library/4.5\\\\\n",
       "\tdesc & desc        & 1.4.3   & C:/Users/dasha/AppData/Local/R/win-library/4.5\\\\\n",
       "\tdevtools & devtools    & 2.4.5   & C:/Users/dasha/AppData/Local/R/win-library/4.5\\\\\n",
       "\tdiffobj & diffobj     & 0.3.6   & C:/Users/dasha/AppData/Local/R/win-library/4.5\\\\\n",
       "\tdigest & digest      & 0.6.37  & C:/Users/dasha/AppData/Local/R/win-library/4.5\\\\\n",
       "\tdownlit & downlit     & 0.4.4   & C:/Users/dasha/AppData/Local/R/win-library/4.5\\\\\n",
       "\t⋮ & ⋮ & ⋮ & ⋮\\\\\n",
       "\tbase & base         & 4.5.0   & C:/Program Files/R/R-4.5.0/library\\\\\n",
       "\tboot & boot         & 1.3-31  & C:/Program Files/R/R-4.5.0/library\\\\\n",
       "\tclass & class        & 7.3-23  & C:/Program Files/R/R-4.5.0/library\\\\\n",
       "\tcluster & cluster      & 2.1.8.1 & C:/Program Files/R/R-4.5.0/library\\\\\n",
       "\tcodetools & codetools    & 0.2-20  & C:/Program Files/R/R-4.5.0/library\\\\\n",
       "\tcompiler & compiler     & 4.5.0   & C:/Program Files/R/R-4.5.0/library\\\\\n",
       "\tdatasets & datasets     & 4.5.0   & C:/Program Files/R/R-4.5.0/library\\\\\n",
       "\tforeign & foreign      & 0.8-90  & C:/Program Files/R/R-4.5.0/library\\\\\n",
       "\tgraphics & graphics     & 4.5.0   & C:/Program Files/R/R-4.5.0/library\\\\\n",
       "\tgrDevices & grDevices    & 4.5.0   & C:/Program Files/R/R-4.5.0/library\\\\\n",
       "\tgrid & grid         & 4.5.0   & C:/Program Files/R/R-4.5.0/library\\\\\n",
       "\tKernSmooth & KernSmooth   & 2.23-26 & C:/Program Files/R/R-4.5.0/library\\\\\n",
       "\tlattice & lattice      & 0.22-6  & C:/Program Files/R/R-4.5.0/library\\\\\n",
       "\tMASS & MASS         & 7.3-65  & C:/Program Files/R/R-4.5.0/library\\\\\n",
       "\tMatrix & Matrix       & 1.7-3   & C:/Program Files/R/R-4.5.0/library\\\\\n",
       "\tmethods & methods      & 4.5.0   & C:/Program Files/R/R-4.5.0/library\\\\\n",
       "\tmgcv & mgcv         & 1.9-1   & C:/Program Files/R/R-4.5.0/library\\\\\n",
       "\tnlme & nlme         & 3.1-168 & C:/Program Files/R/R-4.5.0/library\\\\\n",
       "\tnnet & nnet         & 7.3-20  & C:/Program Files/R/R-4.5.0/library\\\\\n",
       "\tparallel & parallel     & 4.5.0   & C:/Program Files/R/R-4.5.0/library\\\\\n",
       "\trpart & rpart        & 4.1.24  & C:/Program Files/R/R-4.5.0/library\\\\\n",
       "\tspatial & spatial      & 7.3-18  & C:/Program Files/R/R-4.5.0/library\\\\\n",
       "\tsplines & splines      & 4.5.0   & C:/Program Files/R/R-4.5.0/library\\\\\n",
       "\tstats & stats        & 4.5.0   & C:/Program Files/R/R-4.5.0/library\\\\\n",
       "\tstats4 & stats4       & 4.5.0   & C:/Program Files/R/R-4.5.0/library\\\\\n",
       "\tsurvival & survival     & 3.8-3   & C:/Program Files/R/R-4.5.0/library\\\\\n",
       "\ttcltk & tcltk        & 4.5.0   & C:/Program Files/R/R-4.5.0/library\\\\\n",
       "\ttools & tools        & 4.5.0   & C:/Program Files/R/R-4.5.0/library\\\\\n",
       "\ttranslations & translations & 4.5.0   & C:/Program Files/R/R-4.5.0/library\\\\\n",
       "\tutils & utils        & 4.5.0   & C:/Program Files/R/R-4.5.0/library\\\\\n",
       "\\end{tabular}\n"
      ],
      "text/markdown": [
       "\n",
       "A matrix: 185 × 3 of type chr\n",
       "\n",
       "| <!--/--> | Package | Version | LibPath |\n",
       "|---|---|---|---|\n",
       "| askpass | askpass     | 1.2.1   | C:/Users/dasha/AppData/Local/R/win-library/4.5 |\n",
       "| backports | backports   | 1.5.0   | C:/Users/dasha/AppData/Local/R/win-library/4.5 |\n",
       "| base64enc | base64enc   | 0.1-3   | C:/Users/dasha/AppData/Local/R/win-library/4.5 |\n",
       "| bit | bit         | 4.6.0   | C:/Users/dasha/AppData/Local/R/win-library/4.5 |\n",
       "| bit64 | bit64       | 4.6.0-1 | C:/Users/dasha/AppData/Local/R/win-library/4.5 |\n",
       "| blob | blob        | 1.2.4   | C:/Users/dasha/AppData/Local/R/win-library/4.5 |\n",
       "| brew | brew        | 1.0-10  | C:/Users/dasha/AppData/Local/R/win-library/4.5 |\n",
       "| brio | brio        | 1.1.5   | C:/Users/dasha/AppData/Local/R/win-library/4.5 |\n",
       "| broom | broom       | 1.0.8   | C:/Users/dasha/AppData/Local/R/win-library/4.5 |\n",
       "| bslib | bslib       | 0.9.0   | C:/Users/dasha/AppData/Local/R/win-library/4.5 |\n",
       "| cachem | cachem      | 1.1.0   | C:/Users/dasha/AppData/Local/R/win-library/4.5 |\n",
       "| callr | callr       | 3.7.6   | C:/Users/dasha/AppData/Local/R/win-library/4.5 |\n",
       "| cellranger | cellranger  | 1.1.0   | C:/Users/dasha/AppData/Local/R/win-library/4.5 |\n",
       "| cli | cli         | 3.6.5   | C:/Users/dasha/AppData/Local/R/win-library/4.5 |\n",
       "| clipr | clipr       | 0.8.0   | C:/Users/dasha/AppData/Local/R/win-library/4.5 |\n",
       "| collections | collections | 0.3.8   | C:/Users/dasha/AppData/Local/R/win-library/4.5 |\n",
       "| commonmark | commonmark  | 1.9.5   | C:/Users/dasha/AppData/Local/R/win-library/4.5 |\n",
       "| conflicted | conflicted  | 1.2.0   | C:/Users/dasha/AppData/Local/R/win-library/4.5 |\n",
       "| cpp11 | cpp11       | 0.5.2   | C:/Users/dasha/AppData/Local/R/win-library/4.5 |\n",
       "| crayon | crayon      | 1.5.3   | C:/Users/dasha/AppData/Local/R/win-library/4.5 |\n",
       "| credentials | credentials | 2.0.2   | C:/Users/dasha/AppData/Local/R/win-library/4.5 |\n",
       "| curl | curl        | 6.2.2   | C:/Users/dasha/AppData/Local/R/win-library/4.5 |\n",
       "| data.table | data.table  | 1.17.0  | C:/Users/dasha/AppData/Local/R/win-library/4.5 |\n",
       "| DBI | DBI         | 1.2.3   | C:/Users/dasha/AppData/Local/R/win-library/4.5 |\n",
       "| dbplyr | dbplyr      | 2.5.0   | C:/Users/dasha/AppData/Local/R/win-library/4.5 |\n",
       "| desc | desc        | 1.4.3   | C:/Users/dasha/AppData/Local/R/win-library/4.5 |\n",
       "| devtools | devtools    | 2.4.5   | C:/Users/dasha/AppData/Local/R/win-library/4.5 |\n",
       "| diffobj | diffobj     | 0.3.6   | C:/Users/dasha/AppData/Local/R/win-library/4.5 |\n",
       "| digest | digest      | 0.6.37  | C:/Users/dasha/AppData/Local/R/win-library/4.5 |\n",
       "| downlit | downlit     | 0.4.4   | C:/Users/dasha/AppData/Local/R/win-library/4.5 |\n",
       "| ⋮ | ⋮ | ⋮ | ⋮ |\n",
       "| base | base         | 4.5.0   | C:/Program Files/R/R-4.5.0/library |\n",
       "| boot | boot         | 1.3-31  | C:/Program Files/R/R-4.5.0/library |\n",
       "| class | class        | 7.3-23  | C:/Program Files/R/R-4.5.0/library |\n",
       "| cluster | cluster      | 2.1.8.1 | C:/Program Files/R/R-4.5.0/library |\n",
       "| codetools | codetools    | 0.2-20  | C:/Program Files/R/R-4.5.0/library |\n",
       "| compiler | compiler     | 4.5.0   | C:/Program Files/R/R-4.5.0/library |\n",
       "| datasets | datasets     | 4.5.0   | C:/Program Files/R/R-4.5.0/library |\n",
       "| foreign | foreign      | 0.8-90  | C:/Program Files/R/R-4.5.0/library |\n",
       "| graphics | graphics     | 4.5.0   | C:/Program Files/R/R-4.5.0/library |\n",
       "| grDevices | grDevices    | 4.5.0   | C:/Program Files/R/R-4.5.0/library |\n",
       "| grid | grid         | 4.5.0   | C:/Program Files/R/R-4.5.0/library |\n",
       "| KernSmooth | KernSmooth   | 2.23-26 | C:/Program Files/R/R-4.5.0/library |\n",
       "| lattice | lattice      | 0.22-6  | C:/Program Files/R/R-4.5.0/library |\n",
       "| MASS | MASS         | 7.3-65  | C:/Program Files/R/R-4.5.0/library |\n",
       "| Matrix | Matrix       | 1.7-3   | C:/Program Files/R/R-4.5.0/library |\n",
       "| methods | methods      | 4.5.0   | C:/Program Files/R/R-4.5.0/library |\n",
       "| mgcv | mgcv         | 1.9-1   | C:/Program Files/R/R-4.5.0/library |\n",
       "| nlme | nlme         | 3.1-168 | C:/Program Files/R/R-4.5.0/library |\n",
       "| nnet | nnet         | 7.3-20  | C:/Program Files/R/R-4.5.0/library |\n",
       "| parallel | parallel     | 4.5.0   | C:/Program Files/R/R-4.5.0/library |\n",
       "| rpart | rpart        | 4.1.24  | C:/Program Files/R/R-4.5.0/library |\n",
       "| spatial | spatial      | 7.3-18  | C:/Program Files/R/R-4.5.0/library |\n",
       "| splines | splines      | 4.5.0   | C:/Program Files/R/R-4.5.0/library |\n",
       "| stats | stats        | 4.5.0   | C:/Program Files/R/R-4.5.0/library |\n",
       "| stats4 | stats4       | 4.5.0   | C:/Program Files/R/R-4.5.0/library |\n",
       "| survival | survival     | 3.8-3   | C:/Program Files/R/R-4.5.0/library |\n",
       "| tcltk | tcltk        | 4.5.0   | C:/Program Files/R/R-4.5.0/library |\n",
       "| tools | tools        | 4.5.0   | C:/Program Files/R/R-4.5.0/library |\n",
       "| translations | translations | 4.5.0   | C:/Program Files/R/R-4.5.0/library |\n",
       "| utils | utils        | 4.5.0   | C:/Program Files/R/R-4.5.0/library |\n",
       "\n"
      ],
      "text/plain": [
       "             Package      Version\n",
       "askpass      askpass      1.2.1  \n",
       "backports    backports    1.5.0  \n",
       "base64enc    base64enc    0.1-3  \n",
       "bit          bit          4.6.0  \n",
       "bit64        bit64        4.6.0-1\n",
       "blob         blob         1.2.4  \n",
       "brew         brew         1.0-10 \n",
       "brio         brio         1.1.5  \n",
       "broom        broom        1.0.8  \n",
       "bslib        bslib        0.9.0  \n",
       "cachem       cachem       1.1.0  \n",
       "callr        callr        3.7.6  \n",
       "cellranger   cellranger   1.1.0  \n",
       "cli          cli          3.6.5  \n",
       "clipr        clipr        0.8.0  \n",
       "collections  collections  0.3.8  \n",
       "commonmark   commonmark   1.9.5  \n",
       "conflicted   conflicted   1.2.0  \n",
       "cpp11        cpp11        0.5.2  \n",
       "crayon       crayon       1.5.3  \n",
       "credentials  credentials  2.0.2  \n",
       "curl         curl         6.2.2  \n",
       "data.table   data.table   1.17.0 \n",
       "DBI          DBI          1.2.3  \n",
       "dbplyr       dbplyr       2.5.0  \n",
       "desc         desc         1.4.3  \n",
       "devtools     devtools     2.4.5  \n",
       "diffobj      diffobj      0.3.6  \n",
       "digest       digest       0.6.37 \n",
       "downlit      downlit      0.4.4  \n",
       "⋮            ⋮            ⋮      \n",
       "base         base         4.5.0  \n",
       "boot         boot         1.3-31 \n",
       "class        class        7.3-23 \n",
       "cluster      cluster      2.1.8.1\n",
       "codetools    codetools    0.2-20 \n",
       "compiler     compiler     4.5.0  \n",
       "datasets     datasets     4.5.0  \n",
       "foreign      foreign      0.8-90 \n",
       "graphics     graphics     4.5.0  \n",
       "grDevices    grDevices    4.5.0  \n",
       "grid         grid         4.5.0  \n",
       "KernSmooth   KernSmooth   2.23-26\n",
       "lattice      lattice      0.22-6 \n",
       "MASS         MASS         7.3-65 \n",
       "Matrix       Matrix       1.7-3  \n",
       "methods      methods      4.5.0  \n",
       "mgcv         mgcv         1.9-1  \n",
       "nlme         nlme         3.1-168\n",
       "nnet         nnet         7.3-20 \n",
       "parallel     parallel     4.5.0  \n",
       "rpart        rpart        4.1.24 \n",
       "spatial      spatial      7.3-18 \n",
       "splines      splines      4.5.0  \n",
       "stats        stats        4.5.0  \n",
       "stats4       stats4       4.5.0  \n",
       "survival     survival     3.8-3  \n",
       "tcltk        tcltk        4.5.0  \n",
       "tools        tools        4.5.0  \n",
       "translations translations 4.5.0  \n",
       "utils        utils        4.5.0  \n",
       "             LibPath                                       \n",
       "askpass      C:/Users/dasha/AppData/Local/R/win-library/4.5\n",
       "backports    C:/Users/dasha/AppData/Local/R/win-library/4.5\n",
       "base64enc    C:/Users/dasha/AppData/Local/R/win-library/4.5\n",
       "bit          C:/Users/dasha/AppData/Local/R/win-library/4.5\n",
       "bit64        C:/Users/dasha/AppData/Local/R/win-library/4.5\n",
       "blob         C:/Users/dasha/AppData/Local/R/win-library/4.5\n",
       "brew         C:/Users/dasha/AppData/Local/R/win-library/4.5\n",
       "brio         C:/Users/dasha/AppData/Local/R/win-library/4.5\n",
       "broom        C:/Users/dasha/AppData/Local/R/win-library/4.5\n",
       "bslib        C:/Users/dasha/AppData/Local/R/win-library/4.5\n",
       "cachem       C:/Users/dasha/AppData/Local/R/win-library/4.5\n",
       "callr        C:/Users/dasha/AppData/Local/R/win-library/4.5\n",
       "cellranger   C:/Users/dasha/AppData/Local/R/win-library/4.5\n",
       "cli          C:/Users/dasha/AppData/Local/R/win-library/4.5\n",
       "clipr        C:/Users/dasha/AppData/Local/R/win-library/4.5\n",
       "collections  C:/Users/dasha/AppData/Local/R/win-library/4.5\n",
       "commonmark   C:/Users/dasha/AppData/Local/R/win-library/4.5\n",
       "conflicted   C:/Users/dasha/AppData/Local/R/win-library/4.5\n",
       "cpp11        C:/Users/dasha/AppData/Local/R/win-library/4.5\n",
       "crayon       C:/Users/dasha/AppData/Local/R/win-library/4.5\n",
       "credentials  C:/Users/dasha/AppData/Local/R/win-library/4.5\n",
       "curl         C:/Users/dasha/AppData/Local/R/win-library/4.5\n",
       "data.table   C:/Users/dasha/AppData/Local/R/win-library/4.5\n",
       "DBI          C:/Users/dasha/AppData/Local/R/win-library/4.5\n",
       "dbplyr       C:/Users/dasha/AppData/Local/R/win-library/4.5\n",
       "desc         C:/Users/dasha/AppData/Local/R/win-library/4.5\n",
       "devtools     C:/Users/dasha/AppData/Local/R/win-library/4.5\n",
       "diffobj      C:/Users/dasha/AppData/Local/R/win-library/4.5\n",
       "digest       C:/Users/dasha/AppData/Local/R/win-library/4.5\n",
       "downlit      C:/Users/dasha/AppData/Local/R/win-library/4.5\n",
       "⋮            ⋮                                             \n",
       "base         C:/Program Files/R/R-4.5.0/library            \n",
       "boot         C:/Program Files/R/R-4.5.0/library            \n",
       "class        C:/Program Files/R/R-4.5.0/library            \n",
       "cluster      C:/Program Files/R/R-4.5.0/library            \n",
       "codetools    C:/Program Files/R/R-4.5.0/library            \n",
       "compiler     C:/Program Files/R/R-4.5.0/library            \n",
       "datasets     C:/Program Files/R/R-4.5.0/library            \n",
       "foreign      C:/Program Files/R/R-4.5.0/library            \n",
       "graphics     C:/Program Files/R/R-4.5.0/library            \n",
       "grDevices    C:/Program Files/R/R-4.5.0/library            \n",
       "grid         C:/Program Files/R/R-4.5.0/library            \n",
       "KernSmooth   C:/Program Files/R/R-4.5.0/library            \n",
       "lattice      C:/Program Files/R/R-4.5.0/library            \n",
       "MASS         C:/Program Files/R/R-4.5.0/library            \n",
       "Matrix       C:/Program Files/R/R-4.5.0/library            \n",
       "methods      C:/Program Files/R/R-4.5.0/library            \n",
       "mgcv         C:/Program Files/R/R-4.5.0/library            \n",
       "nlme         C:/Program Files/R/R-4.5.0/library            \n",
       "nnet         C:/Program Files/R/R-4.5.0/library            \n",
       "parallel     C:/Program Files/R/R-4.5.0/library            \n",
       "rpart        C:/Program Files/R/R-4.5.0/library            \n",
       "spatial      C:/Program Files/R/R-4.5.0/library            \n",
       "splines      C:/Program Files/R/R-4.5.0/library            \n",
       "stats        C:/Program Files/R/R-4.5.0/library            \n",
       "stats4       C:/Program Files/R/R-4.5.0/library            \n",
       "survival     C:/Program Files/R/R-4.5.0/library            \n",
       "tcltk        C:/Program Files/R/R-4.5.0/library            \n",
       "tools        C:/Program Files/R/R-4.5.0/library            \n",
       "translations C:/Program Files/R/R-4.5.0/library            \n",
       "utils        C:/Program Files/R/R-4.5.0/library            "
      ]
     },
     "metadata": {},
     "output_type": "display_data"
    }
   ],
   "source": [
    "installed.packages()[,c(\"Package\", \"Version\", \"LibPath\")]\n"
   ]
  },
  {
   "cell_type": "code",
   "execution_count": 5,
   "id": "a0b27f7e",
   "metadata": {
    "vscode": {
     "languageId": "r"
    }
   },
   "outputs": [
    {
     "name": "stderr",
     "output_type": "stream",
     "text": [
      "Installing package into 'C:/Users/dasha/AppData/Local/R/win-library/4.5'\n",
      "(as 'lib' is unspecified)\n",
      "\n"
     ]
    },
    {
     "name": "stdout",
     "output_type": "stream",
     "text": [
      "package 'BiocManager' successfully unpacked and MD5 sums checked\n",
      "\n",
      "The downloaded binary packages are in\n",
      "\tC:\\Users\\dasha\\AppData\\Local\\Temp\\RtmpiQjmV0\\downloaded_packages\n"
     ]
    },
    {
     "name": "stderr",
     "output_type": "stream",
     "text": [
      "'getOption(\"repos\")' replaces Bioconductor standard repositories, see\n",
      "'help(\"repositories\", package = \"BiocManager\")' for details.\n",
      "Replacement repositories:\n",
      "    CRAN: https://cran.r-project.org\n",
      "\n",
      "Bioconductor version 3.21 (BiocManager 1.30.25), R 4.5.0 (2025-04-11 ucrt)\n",
      "\n",
      "Installing package(s) 'BiocVersion', 'ExperimentHub'\n",
      "\n",
      "also installing the dependencies 'UCSC.utils', 'GenomeInfoDbData', 'XVector', 'GenomeInfoDb', 'png', 'Biostrings', 'plogr', 'Biobase', 'IRanges', 'KEGGREST', 'RSQLite', 'AnnotationDbi', 'filelock', 'BiocGenerics', 'AnnotationHub', 'BiocFileCache', 'S4Vectors'\n",
      "\n",
      "\n"
     ]
    },
    {
     "name": "stdout",
     "output_type": "stream",
     "text": [
      "package 'UCSC.utils' successfully unpacked and MD5 sums checked\n",
      "package 'XVector' successfully unpacked and MD5 sums checked\n",
      "package 'GenomeInfoDb' successfully unpacked and MD5 sums checked\n",
      "package 'png' successfully unpacked and MD5 sums checked\n",
      "package 'Biostrings' successfully unpacked and MD5 sums checked\n",
      "package 'plogr' successfully unpacked and MD5 sums checked\n",
      "package 'Biobase' successfully unpacked and MD5 sums checked\n",
      "package 'IRanges' successfully unpacked and MD5 sums checked\n",
      "package 'KEGGREST' successfully unpacked and MD5 sums checked\n",
      "package 'RSQLite' successfully unpacked and MD5 sums checked\n",
      "package 'AnnotationDbi' successfully unpacked and MD5 sums checked\n",
      "package 'filelock' successfully unpacked and MD5 sums checked\n",
      "package 'BiocGenerics' successfully unpacked and MD5 sums checked\n",
      "package 'AnnotationHub' successfully unpacked and MD5 sums checked\n",
      "package 'BiocFileCache' successfully unpacked and MD5 sums checked\n",
      "package 'S4Vectors' successfully unpacked and MD5 sums checked\n",
      "package 'BiocVersion' successfully unpacked and MD5 sums checked\n",
      "package 'ExperimentHub' successfully unpacked and MD5 sums checked\n",
      "\n",
      "The downloaded binary packages are in\n",
      "\tC:\\Users\\dasha\\AppData\\Local\\Temp\\RtmpiQjmV0\\downloaded_packages\n"
     ]
    },
    {
     "name": "stderr",
     "output_type": "stream",
     "text": [
      "installing the source package 'GenomeInfoDbData'\n",
      "\n",
      "\n",
      "Installation paths not writeable, unable to update packages\n",
      "  path: C:/Program Files/R/R-4.5.0/library\n",
      "  packages:\n",
      "    lattice, mgcv\n",
      "\n",
      "'getOption(\"repos\")' replaces Bioconductor standard repositories, see\n",
      "'help(\"repositories\", package = \"BiocManager\")' for details.\n",
      "Replacement repositories:\n",
      "    CRAN: https://cran.r-project.org\n",
      "\n",
      "Bioconductor version 3.21 (BiocManager 1.30.25), R 4.5.0 (2025-04-11 ucrt)\n",
      "\n",
      "Installing package(s) 'curatedBreastData'\n",
      "\n",
      "also installing the dependencies 'bookdown', 'XML', 'impute', 'BiocStyle'\n",
      "\n",
      "\n"
     ]
    },
    {
     "name": "stdout",
     "output_type": "stream",
     "text": [
      "package 'bookdown' successfully unpacked and MD5 sums checked\n",
      "package 'XML' successfully unpacked and MD5 sums checked\n",
      "package 'impute' successfully unpacked and MD5 sums checked\n",
      "package 'BiocStyle' successfully unpacked and MD5 sums checked\n",
      "\n",
      "The downloaded binary packages are in\n",
      "\tC:\\Users\\dasha\\AppData\\Local\\Temp\\RtmpiQjmV0\\downloaded_packages\n"
     ]
    },
    {
     "name": "stderr",
     "output_type": "stream",
     "text": [
      "installing the source package 'curatedBreastData'\n",
      "\n",
      "\n",
      "Installation paths not writeable, unable to update packages\n",
      "  path: C:/Program Files/R/R-4.5.0/library\n",
      "  packages:\n",
      "    lattice, mgcv\n",
      "\n"
     ]
    }
   ],
   "source": [
    "\n",
    "if (!requireNamespace(\"survival\", quietly = TRUE)) {\n",
    "  install.packages(\"survival\")\n",
    "}\n",
    "if (!requireNamespace(\"ggplot2\", quietly = TRUE)) {\n",
    "  install.packages(\"ggplot2\")\n",
    "}\n",
    "\n",
    "if (!requireNamespace(\"BiocManager\", quietly = TRUE))\n",
    "    install.packages(\"BiocManager\")\n",
    "\n",
    "if (!requireNamespace(\"ExperimentHub\", quietly = TRUE)) {\n",
    "  BiocManager::install(\"ExperimentHub\")\n",
    "}\n",
    "if (!requireNamespace(\"curatedBreastData\", quietly = TRUE)) {\n",
    "  BiocManager::install(\"curatedBreastData\")\n",
    "}\n"
   ]
  },
  {
   "cell_type": "code",
   "execution_count": 7,
   "id": "00219dd3",
   "metadata": {
    "vscode": {
     "languageId": "r"
    }
   },
   "outputs": [
    {
     "name": "stderr",
     "output_type": "stream",
     "text": [
      "Installing package into 'C:/Users/dasha/AppData/Local/R/win-library/4.5'\n",
      "(as 'lib' is unspecified)\n",
      "\n",
      "also installing the dependencies 'iterators', 'foreach', 'shape', 'RcppEigen'\n",
      "\n",
      "\n"
     ]
    },
    {
     "name": "stdout",
     "output_type": "stream",
     "text": [
      "package 'iterators' successfully unpacked and MD5 sums checked\n",
      "package 'foreach' successfully unpacked and MD5 sums checked\n",
      "package 'shape' successfully unpacked and MD5 sums checked\n",
      "package 'RcppEigen' successfully unpacked and MD5 sums checked\n",
      "package 'glmnet' successfully unpacked and MD5 sums checked\n",
      "\n",
      "The downloaded binary packages are in\n",
      "\tC:\\Users\\dasha\\AppData\\Local\\Temp\\RtmpiQjmV0\\downloaded_packages\n"
     ]
    }
   ],
   "source": [
    "install.packages((\"glmnet\"))"
   ]
  },
  {
   "cell_type": "code",
   "execution_count": 8,
   "id": "cd5ca8d8",
   "metadata": {
    "vscode": {
     "languageId": "r"
    }
   },
   "outputs": [
    {
     "name": "stderr",
     "output_type": "stream",
     "text": [
      "Loading required package: Matrix\n",
      "\n"
     ]
    },
    {
     "name": "stderr",
     "output_type": "stream",
     "text": [
      "Loaded glmnet 4.1-8\n",
      "\n",
      "Loading required package: BiocGenerics\n",
      "\n",
      "Loading required package: generics\n",
      "\n",
      "\n",
      "Attaching package: 'generics'\n",
      "\n",
      "\n",
      "The following objects are masked from 'package:base':\n",
      "\n",
      "    as.difftime, as.factor, as.ordered, intersect, is.element, setdiff,\n",
      "    setequal, union\n",
      "\n",
      "\n",
      "\n",
      "Attaching package: 'BiocGenerics'\n",
      "\n",
      "\n",
      "The following objects are masked from 'package:stats':\n",
      "\n",
      "    IQR, mad, sd, var, xtabs\n",
      "\n",
      "\n",
      "The following objects are masked from 'package:base':\n",
      "\n",
      "    anyDuplicated, aperm, append, as.data.frame, basename, cbind,\n",
      "    colnames, dirname, do.call, duplicated, eval, evalq, Filter, Find,\n",
      "    get, grep, grepl, is.unsorted, lapply, Map, mapply, match, mget,\n",
      "    order, paste, pmax, pmax.int, pmin, pmin.int, Position, rank,\n",
      "    rbind, Reduce, rownames, sapply, saveRDS, table, tapply, unique,\n",
      "    unsplit, which.max, which.min\n",
      "\n",
      "\n",
      "Loading required package: AnnotationHub\n",
      "\n",
      "Loading required package: BiocFileCache\n",
      "\n",
      "Loading required package: dbplyr\n",
      "\n",
      "Loading required package: XML\n",
      "\n",
      "Loading required package: ggplot2\n",
      "\n",
      "Loading required package: impute\n",
      "\n",
      "Loading required package: Biobase\n",
      "\n",
      "Welcome to Bioconductor\n",
      "\n",
      "    Vignettes contain introductory material; view with\n",
      "    'browseVignettes()'. To cite Bioconductor, see\n",
      "    'citation(\"Biobase\")', and for packages 'citation(\"pkgname\")'.\n",
      "\n",
      "\n",
      "\n",
      "Attaching package: 'Biobase'\n",
      "\n",
      "\n",
      "The following object is masked from 'package:ExperimentHub':\n",
      "\n",
      "    cache\n",
      "\n",
      "\n",
      "The following object is masked from 'package:AnnotationHub':\n",
      "\n",
      "    cache\n",
      "\n",
      "\n",
      "Loading required package: BiocStyle\n",
      "\n"
     ]
    }
   ],
   "source": [
    "\n",
    "library(\"glmnet\")\n",
    "library(\"BiocManager\")\n",
    "library(\"ExperimentHub\")\n",
    "library(\"curatedBreastData\")\n",
    "library(\"survival\")\n",
    "library(\"ggplot2\")\n",
    "library(\"class\")\n",
    "\n",
    "# should give no error if the packages are all installed and accessible"
   ]
  }
 ],
 "metadata": {
  "kernelspec": {
   "display_name": "R",
   "language": "R",
   "name": "ir"
  },
  "language_info": {
   "codemirror_mode": "r",
   "file_extension": ".r",
   "mimetype": "text/x-r-source",
   "name": "R",
   "pygments_lexer": "r",
   "version": "4.5.0"
  }
 },
 "nbformat": 4,
 "nbformat_minor": 5
}
