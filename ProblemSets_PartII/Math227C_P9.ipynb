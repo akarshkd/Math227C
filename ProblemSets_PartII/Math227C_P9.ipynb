{
 "cells": [
  {
   "cell_type": "code",
   "execution_count": 1,
   "id": "601e0644",
   "metadata": {
    "vscode": {
     "languageId": "r"
    }
   },
   "outputs": [],
   "source": [
    "# Install a package BioConductor ExperimentHub to access the example data\n",
    "if (!requireNamespace(\"BiocManager\", quietly = TRUE))\n",
    "    install.packages(\"BiocManager\")\n",
    "BiocManager::install()\n",
    "BiocManager::install(\"ExperimentHub\")\n",
    "\n",
    "# Install glmnet for LASSO and Elastic Net regression\n",
    "install.packages(\"glmnet\")"
   ]
  },
  {
   "cell_type": "code",
   "execution_count": null,
   "id": "f1d0e514",
   "metadata": {
    "vscode": {
     "languageId": "r"
    }
   },
   "outputs": [],
   "source": [
    "library(\"BiocManager\")\n",
    "library(\"ExperimentHub\")\n",
    "\n",
    "library(\"glmnet\")"
   ]
  },
  {
   "cell_type": "markdown",
   "id": "7231a501",
   "metadata": {},
   "source": [
    "# Problem 9: Microbiome data\n",
    "\n",
    "Download this dataset from BioConductor."
   ]
  },
  {
   "cell_type": "code",
   "execution_count": null,
   "id": "c43354f6",
   "metadata": {
    "vscode": {
     "languageId": "r"
    }
   },
   "outputs": [],
   "source": [
    "eh = ExperimentHub()\n",
    "data = eh[[\"EH361\"]]"
   ]
  },
  {
   "cell_type": "markdown",
   "id": "78b41348",
   "metadata": {},
   "source": [
    "In this dataset, for each of $N_{\\textrm{obs}}$ patients, the presence of $N_{\\textrm{dim}}$ species of microbe was measured.\n",
    "In addition, the disease state of the patient was measured, which can be \"n\" (no cancer), \"adenoma\" (precancerous), or \"cancer\".\n",
    "For simplicity, let's only use the \"n\" and \"cancer\" states (and remove the adenomas)."
   ]
  },
  {
   "cell_type": "code",
   "execution_count": null,
   "id": "4a20f654",
   "metadata": {
    "vscode": {
     "languageId": "r"
    }
   },
   "outputs": [],
   "source": [
    "colnames(data)\n",
    "rownames(data)\n",
    "\n",
    "data$disease\n",
    "dataCancerNoCancer = data[, data$disease %in% c(\"n\", \"cancer\")]\n",
    "dataCancerNoCancer$disease"
   ]
  },
  {
   "cell_type": "markdown",
   "id": "62ec5621",
   "metadata": {},
   "source": [
    "## Question i\n",
    "\n",
    "Inspect the data.\n",
    "\n",
    "How many patients are there ($N_{\\textrm{obs}}$)?\n",
    "\n",
    "How many species of microbe were measured ($N_{\\textrm{dim}}$)?\n"
   ]
  },
  {
   "cell_type": "markdown",
   "id": "b6b8c8ba",
   "metadata": {},
   "source": [
    "## Question ii\n",
    "\n",
    "In generalized linear regression (glm) model, the probability that a patient has cancer, given the presence of microbes $X_1,... X_{N-\\textrm{dim}}$ is\n",
    "\n",
    "$p = \\frac{\\operatorname{exp} (\\beta_1 X_1 + ... )}{1+\\operatorname{exp}\\left( \\beta_1 X_1 + ... \\right)}$.\n",
    "\n",
    "This model has a likelihood function $L(\\beta_1, ... \\beta, Y_1,...)$ you can see [here](https://en.wikipedia.org/wiki/Generalized_linear_model). \n",
    "Simply using the maximum likelihood approach is impossible here, since $N_{\\textrm{dim}}>N_{\\textrm{obs}}$. \n",
    "\n",
    "On the other hand, LASSO regression maximizes $L + \\lambda \\sum_i^n | \\beta |$."
   ]
  },
  {
   "cell_type": "markdown",
   "id": "1ce8703a",
   "metadata": {},
   "source": [
    "Perform LASSO regression for a sweep over $\\lambda$.\n",
    "Plot the value of all the parameters $\\beta_i$ versus $\\lambda$.\n"
   ]
  },
  {
   "cell_type": "code",
   "execution_count": null,
   "id": "3fcaefe6",
   "metadata": {
    "vscode": {
     "languageId": "r"
    }
   },
   "outputs": [],
   "source": [
    "y = factor(dataCancerNoCancer$disease)\n",
    "x = t(exprs(dataCancerNoCancer))\n",
    "\n",
    "lassoFit = glmnet(y=y, x=x, family=\"binomial\")\n",
    "\n",
    "plot(lassoFit, xvar = \"lambda\", label = TRUE)"
   ]
  },
  {
   "cell_type": "markdown",
   "id": "57c8d9f8",
   "metadata": {},
   "source": [
    "Perform cross-validation for each value of $\\lambda$.\n",
    "What value of $\\lambda$ minimizes the cross-validation error?"
   ]
  },
  {
   "cell_type": "code",
   "execution_count": null,
   "id": "d77af48a",
   "metadata": {
    "lines_to_next_cell": 2,
    "vscode": {
     "languageId": "r"
    }
   },
   "outputs": [],
   "source": [
    "crossValidationOutput <- cv.glmnet(y=factor(dataCancerNoCancer$disease),\n",
    "                                   x=t(exprs(dataCancerNoCancer)), family=\"binomial\")\n",
    "\n",
    "plot(crossValidationOutput)\n",
    "\n",
    "bestLambda = crossValidationOutput$lambda.min\n",
    "confusionMatrix = predict(lassoFit, newx = t(exprs(dataCancerNoCancer)), type=\"class\",s=bestLambda)\n",
    "table(confusionMatrix, dataCancerNoCancer$disease)"
   ]
  },
  {
   "cell_type": "markdown",
   "id": "03d032ad",
   "metadata": {},
   "source": [
    "## 3.  Elastic Net regression\n",
    "\n",
    "The characteristic feature of Ridge regression is the penalty\n",
    "\n",
    "$$\\mathrm{log}\\left(L(\\beta)\\right) - \\lambda \\sum_i  \\beta_i ^2,$$\n",
    "\n",
    "while the penalty for Lasso regression is\n",
    "\n",
    "$$\\mathrm{log}\\left(L(\\beta)\\right) - \\lambda \\sum_i | \\beta_i |.$$\n",
    "\n",
    "In this Problem Set, we explore the penalty\n",
    "\n",
    "$$\\mathrm{log}\\left(L(\\beta)\\right) - \\lambda \\left(\\alpha \\sum_i | \\beta_i | +  (1-\\alpha) \\sum_i  \\beta_i ^2\\right),$$\n",
    "\n",
    "which is called __Elastic Net__.  \n",
    "\n",
    "i) In parameter space, Ridge Regression corresponds to finding optimal parameters on a circle, while LASSO regression corresponds to finding optimal parameters on a diamond. What shape does Elastic Net correspond to?"
   ]
  },
  {
   "cell_type": "markdown",
   "id": "bc05c239",
   "metadata": {},
   "source": []
  },
  {
   "cell_type": "markdown",
   "id": "0e066c4a",
   "metadata": {},
   "source": [
    "ii). The `glmnet` package was built for Elastic Net regression. Look up the [glmnet package help files](https://www.rdocumentation.org/packages/glmnet/versions/3.0-2/topics/glmnet) to find out how to perform Elastic Net regression for a specific $\\alpha$. Do this for $\\alpha=0.5$, and return the confusion matrix."
   ]
  },
  {
   "cell_type": "code",
   "execution_count": null,
   "id": "e0dea73b",
   "metadata": {
    "vscode": {
     "languageId": "r"
    }
   },
   "outputs": [],
   "source": [
    "# CODE HERE"
   ]
  },
  {
   "cell_type": "markdown",
   "id": "fed4ed19",
   "metadata": {},
   "source": [
    "iii) Perform a sweep over $\\alpha=0$ to $\\alpha=1$. Plot the number of species included versus $\\alpha$.\n",
    "\n",
    "Hint: The cv.glmnet output object has a returns a value `$nzero`, which is the number of nonzero factorso, which is the number of species desired.  "
   ]
  },
  {
   "cell_type": "code",
   "execution_count": null,
   "id": "2b912c6e",
   "metadata": {
    "vscode": {
     "languageId": "r"
    }
   },
   "outputs": [],
   "source": [
    "# CODE HERE"
   ]
  },
  {
   "cell_type": "markdown",
   "id": "f3ab7c71",
   "metadata": {},
   "source": [
    "iv) What $\\alpha$ value minimizes the number of false positives (non-cancer patients that are predicted to have cancer)? What $\\alpha$ value minimizes the number of false negatives (cancer patients that are predicted to not have cancer)?\n"
   ]
  },
  {
   "cell_type": "code",
   "execution_count": null,
   "id": "ffa5c1db",
   "metadata": {
    "vscode": {
     "languageId": "r"
    }
   },
   "outputs": [],
   "source": [
    "# CODE HERE"
   ]
  }
 ],
 "metadata": {
  "kernelspec": {
   "display_name": "R",
   "language": "R",
   "name": "ir"
  },
  "language_info": {
   "codemirror_mode": "r",
   "file_extension": ".r",
   "mimetype": "text/x-r-source",
   "name": "R",
   "pygments_lexer": "r",
   "version": "4.4.2"
  }
 },
 "nbformat": 4,
 "nbformat_minor": 5
}
