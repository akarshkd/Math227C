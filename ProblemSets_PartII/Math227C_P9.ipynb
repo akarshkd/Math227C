{
 "cells": [
  {
   "cell_type": "code",
   "execution_count": 1,
   "id": "601e0644",
   "metadata": {
    "vscode": {
     "languageId": "r"
    }
   },
   "outputs": [
    {
     "name": "stderr",
     "output_type": "stream",
     "text": [
      "'getOption(\"repos\")' replaces Bioconductor standard repositories, see\n",
      "'help(\"repositories\", package = \"BiocManager\")' for details.\n",
      "Replacement repositories:\n",
      "    CRAN: https://cran.r-project.org\n",
      "\n",
      "Bioconductor version 3.21 (BiocManager 1.30.25), R 4.5.0 (2025-04-11 ucrt)\n",
      "\n",
      "Installation paths not writeable, unable to update packages\n",
      "  path: C:/Program Files/R/R-4.5.0/library\n",
      "  packages:\n",
      "    lattice, mgcv\n",
      "\n",
      "Old packages: 'data.table', 'generics', 'recipes', 'zip'\n",
      "\n",
      "'getOption(\"repos\")' replaces Bioconductor standard repositories, see\n",
      "'help(\"repositories\", package = \"BiocManager\")' for details.\n",
      "Replacement repositories:\n",
      "    CRAN: https://cran.r-project.org\n",
      "\n",
      "Bioconductor version 3.21 (BiocManager 1.30.25), R 4.5.0 (2025-04-11 ucrt)\n",
      "\n",
      "Warning message:\n",
      "\"package(s) not installed when version(s) same as or greater than current; use\n",
      "  `force = TRUE` to re-install: 'ExperimentHub'\"\n",
      "Installation paths not writeable, unable to update packages\n",
      "  path: C:/Program Files/R/R-4.5.0/library\n",
      "  packages:\n",
      "    lattice, mgcv\n",
      "\n",
      "Old packages: 'data.table', 'generics', 'recipes', 'zip'\n",
      "\n",
      "Installing package into 'C:/Users/dasha/AppData/Local/R/win-library/4.5'\n",
      "(as 'lib' is unspecified)\n",
      "\n"
     ]
    },
    {
     "name": "stdout",
     "output_type": "stream",
     "text": [
      "package 'glmnet' successfully unpacked and MD5 sums checked\n"
     ]
    },
    {
     "name": "stderr",
     "output_type": "stream",
     "text": [
      "Warning message:\n",
      "\"cannot remove prior installation of package 'glmnet'\"\n",
      "Warning message in file.copy(savedcopy, lib, recursive = TRUE):\n",
      "\"problem copying C:\\Users\\dasha\\AppData\\Local\\R\\win-library\\4.5\\00LOCK\\glmnet\\libs\\x64\\glmnet.dll to C:\\Users\\dasha\\AppData\\Local\\R\\win-library\\4.5\\glmnet\\libs\\x64\\glmnet.dll: Permission denied\"\n",
      "Warning message:\n",
      "\"restored 'glmnet'\"\n"
     ]
    },
    {
     "name": "stdout",
     "output_type": "stream",
     "text": [
      "\n",
      "The downloaded binary packages are in\n",
      "\tC:\\Users\\dasha\\AppData\\Local\\Temp\\RtmpOYqE0i\\downloaded_packages\n"
     ]
    }
   ],
   "source": [
    "# Install a package BioConductor ExperimentHub to access the example data\n",
    "if (!requireNamespace(\"BiocManager\", quietly = TRUE))\n",
    "    install.packages(\"BiocManager\")\n",
    "BiocManager::install()\n",
    "BiocManager::install(\"ExperimentHub\")\n",
    "\n",
    "# Install glmnet for LASSO and Elastic Net regression\n",
    "install.packages(\"glmnet\")"
   ]
  },
  {
   "cell_type": "code",
   "execution_count": 2,
   "id": "f1d0e514",
   "metadata": {
    "vscode": {
     "languageId": "r"
    }
   },
   "outputs": [
    {
     "name": "stderr",
     "output_type": "stream",
     "text": [
      "Loading required package: BiocGenerics\n",
      "\n",
      "Loading required package: generics\n",
      "\n",
      "\n",
      "Attaching package: 'generics'\n",
      "\n",
      "\n",
      "The following objects are masked from 'package:base':\n",
      "\n",
      "    as.difftime, as.factor, as.ordered, intersect, is.element, setdiff,\n",
      "    setequal, union\n",
      "\n",
      "\n",
      "\n",
      "Attaching package: 'BiocGenerics'\n",
      "\n",
      "\n",
      "The following objects are masked from 'package:stats':\n",
      "\n",
      "    IQR, mad, sd, var, xtabs\n",
      "\n",
      "\n",
      "The following objects are masked from 'package:base':\n",
      "\n",
      "    anyDuplicated, aperm, append, as.data.frame, basename, cbind,\n",
      "    colnames, dirname, do.call, duplicated, eval, evalq, Filter, Find,\n",
      "    get, grep, grepl, is.unsorted, lapply, Map, mapply, match, mget,\n",
      "    order, paste, pmax, pmax.int, pmin, pmin.int, Position, rank,\n",
      "    rbind, Reduce, rownames, sapply, saveRDS, table, tapply, unique,\n",
      "    unsplit, which.max, which.min\n",
      "\n",
      "\n",
      "Loading required package: AnnotationHub\n",
      "\n",
      "Loading required package: BiocFileCache\n",
      "\n",
      "Loading required package: dbplyr\n",
      "\n",
      "Loading required package: Matrix\n",
      "\n",
      "Loaded glmnet 4.1-8\n",
      "\n"
     ]
    }
   ],
   "source": [
    "library(\"BiocManager\")\n",
    "library(\"ExperimentHub\")\n",
    "library(\"glmnet\")"
   ]
  },
  {
   "cell_type": "markdown",
   "id": "7231a501",
   "metadata": {},
   "source": [
    "# Problem 9: Microbiome data\n",
    "\n",
    "Download this dataset from BioConductor."
   ]
  },
  {
   "cell_type": "code",
   "execution_count": 3,
   "id": "c43354f6",
   "metadata": {
    "vscode": {
     "languageId": "r"
    }
   },
   "outputs": [
    {
     "name": "stderr",
     "output_type": "stream",
     "text": [
      "curatedMetagenomicData not installed.\n",
      "  Full functionality, documentation, and loading of data might not be possible without installing\n",
      "\n",
      "loading from cache\n",
      "\n",
      "require(\"Biobase\")\n",
      "\n"
     ]
    }
   ],
   "source": [
    "eh = ExperimentHub()\n",
    "data = eh[[\"EH361\"]]"
   ]
  },
  {
   "cell_type": "markdown",
   "id": "78b41348",
   "metadata": {},
   "source": [
    "In this dataset, for each of $N_{\\textrm{obs}}$ patients, the presence of $N_{\\textrm{dim}}$ species of microbe was measured.\n",
    "In addition, the disease state of the patient was measured, which can be \"n\" (no cancer), \"adenoma\" (precancerous), or \"cancer\".\n",
    "For simplicity, let's only use the \"n\" and \"cancer\" states (and remove the adenomas)."
   ]
  },
  {
   "cell_type": "code",
   "execution_count": 7,
   "id": "4a20f654",
   "metadata": {
    "vscode": {
     "languageId": "r"
    }
   },
   "outputs": [
    {
     "data": {
      "text/html": [
       "<strong>Samples:</strong> 156"
      ],
      "text/latex": [
       "\\textbf{Samples:} 156"
      ],
      "text/markdown": [
       "**Samples:** 156"
      ],
      "text/plain": [
       "Samples \n",
       "    156 "
      ]
     },
     "metadata": {},
     "output_type": "display_data"
    },
    {
     "data": {
      "text/html": [
       "<strong>Features:</strong> 1505"
      ],
      "text/latex": [
       "\\textbf{Features:} 1505"
      ],
      "text/markdown": [
       "**Features:** 1505"
      ],
      "text/plain": [
       "Features \n",
       "    1505 "
      ]
     },
     "metadata": {},
     "output_type": "display_data"
    },
    {
     "data": {
      "text/html": [
       "<style>\n",
       ".list-inline {list-style: none; margin:0; padding: 0}\n",
       ".list-inline>li {display: inline-block}\n",
       ".list-inline>li:not(:last-child)::after {content: \"\\00b7\"; padding: 0 .5ex}\n",
       "</style>\n",
       "<ol class=list-inline><li>'n'</li><li>'n'</li><li>'n'</li><li>'cancer'</li><li>'n'</li><li>'n'</li><li>'n'</li><li>'n'</li><li>'cancer'</li><li>'n'</li><li>'n'</li><li>'n'</li><li>'n'</li><li>'n'</li><li>'cancer'</li><li>'n'</li><li>'n'</li><li>'n'</li><li>'cancer'</li><li>'cancer'</li><li>'n'</li><li>'cancer'</li><li>'cancer'</li><li>'n'</li><li>'n'</li><li>'n'</li><li>'n'</li><li>'cancer'</li><li>'n'</li><li>'n'</li><li>'cancer'</li><li>'cancer'</li><li>'cancer'</li><li>'n'</li><li>'cancer'</li><li>'n'</li><li>'n'</li><li>'n'</li><li>'n'</li><li>'n'</li><li>'cancer'</li><li>'cancer'</li><li>'n'</li><li>'cancer'</li><li>'n'</li><li>'n'</li><li>'cancer'</li><li>'cancer'</li><li>'cancer'</li><li>'cancer'</li><li>'cancer'</li><li>'n'</li><li>'n'</li><li>'cancer'</li><li>'n'</li><li>'n'</li><li>'cancer'</li><li>'cancer'</li><li>'cancer'</li><li>'n'</li><li>'cancer'</li><li>'n'</li><li>'cancer'</li><li>'n'</li><li>'n'</li><li>'cancer'</li><li>'cancer'</li><li>'cancer'</li><li>'cancer'</li><li>'cancer'</li><li>'cancer'</li><li>'cancer'</li><li>'cancer'</li><li>'cancer'</li><li>'n'</li><li>'n'</li><li>'n'</li><li>'n'</li><li>'n'</li><li>'cancer'</li><li>'cancer'</li><li>'n'</li><li>'cancer'</li><li>'n'</li><li>'cancer'</li><li>'cancer'</li><li>'n'</li><li>'cancer'</li><li>'n'</li><li>'n'</li><li>'n'</li><li>'cancer'</li><li>'cancer'</li><li>'n'</li><li>'n'</li><li>'cancer'</li><li>'cancer'</li><li>'cancer'</li><li>'cancer'</li><li>'cancer'</li><li>'cancer'</li><li>'cancer'</li><li>'n'</li><li>'n'</li><li>'n'</li><li>'cancer'</li><li>'n'</li><li>'n'</li><li>'n'</li><li>'n'</li><li>'n'</li><li>'n'</li><li>'cancer'</li><li>'cancer'</li></ol>\n"
      ],
      "text/latex": [
       "\\begin{enumerate*}\n",
       "\\item 'n'\n",
       "\\item 'n'\n",
       "\\item 'n'\n",
       "\\item 'cancer'\n",
       "\\item 'n'\n",
       "\\item 'n'\n",
       "\\item 'n'\n",
       "\\item 'n'\n",
       "\\item 'cancer'\n",
       "\\item 'n'\n",
       "\\item 'n'\n",
       "\\item 'n'\n",
       "\\item 'n'\n",
       "\\item 'n'\n",
       "\\item 'cancer'\n",
       "\\item 'n'\n",
       "\\item 'n'\n",
       "\\item 'n'\n",
       "\\item 'cancer'\n",
       "\\item 'cancer'\n",
       "\\item 'n'\n",
       "\\item 'cancer'\n",
       "\\item 'cancer'\n",
       "\\item 'n'\n",
       "\\item 'n'\n",
       "\\item 'n'\n",
       "\\item 'n'\n",
       "\\item 'cancer'\n",
       "\\item 'n'\n",
       "\\item 'n'\n",
       "\\item 'cancer'\n",
       "\\item 'cancer'\n",
       "\\item 'cancer'\n",
       "\\item 'n'\n",
       "\\item 'cancer'\n",
       "\\item 'n'\n",
       "\\item 'n'\n",
       "\\item 'n'\n",
       "\\item 'n'\n",
       "\\item 'n'\n",
       "\\item 'cancer'\n",
       "\\item 'cancer'\n",
       "\\item 'n'\n",
       "\\item 'cancer'\n",
       "\\item 'n'\n",
       "\\item 'n'\n",
       "\\item 'cancer'\n",
       "\\item 'cancer'\n",
       "\\item 'cancer'\n",
       "\\item 'cancer'\n",
       "\\item 'cancer'\n",
       "\\item 'n'\n",
       "\\item 'n'\n",
       "\\item 'cancer'\n",
       "\\item 'n'\n",
       "\\item 'n'\n",
       "\\item 'cancer'\n",
       "\\item 'cancer'\n",
       "\\item 'cancer'\n",
       "\\item 'n'\n",
       "\\item 'cancer'\n",
       "\\item 'n'\n",
       "\\item 'cancer'\n",
       "\\item 'n'\n",
       "\\item 'n'\n",
       "\\item 'cancer'\n",
       "\\item 'cancer'\n",
       "\\item 'cancer'\n",
       "\\item 'cancer'\n",
       "\\item 'cancer'\n",
       "\\item 'cancer'\n",
       "\\item 'cancer'\n",
       "\\item 'cancer'\n",
       "\\item 'cancer'\n",
       "\\item 'n'\n",
       "\\item 'n'\n",
       "\\item 'n'\n",
       "\\item 'n'\n",
       "\\item 'n'\n",
       "\\item 'cancer'\n",
       "\\item 'cancer'\n",
       "\\item 'n'\n",
       "\\item 'cancer'\n",
       "\\item 'n'\n",
       "\\item 'cancer'\n",
       "\\item 'cancer'\n",
       "\\item 'n'\n",
       "\\item 'cancer'\n",
       "\\item 'n'\n",
       "\\item 'n'\n",
       "\\item 'n'\n",
       "\\item 'cancer'\n",
       "\\item 'cancer'\n",
       "\\item 'n'\n",
       "\\item 'n'\n",
       "\\item 'cancer'\n",
       "\\item 'cancer'\n",
       "\\item 'cancer'\n",
       "\\item 'cancer'\n",
       "\\item 'cancer'\n",
       "\\item 'cancer'\n",
       "\\item 'cancer'\n",
       "\\item 'n'\n",
       "\\item 'n'\n",
       "\\item 'n'\n",
       "\\item 'cancer'\n",
       "\\item 'n'\n",
       "\\item 'n'\n",
       "\\item 'n'\n",
       "\\item 'n'\n",
       "\\item 'n'\n",
       "\\item 'n'\n",
       "\\item 'cancer'\n",
       "\\item 'cancer'\n",
       "\\end{enumerate*}\n"
      ],
      "text/markdown": [
       "1. 'n'\n",
       "2. 'n'\n",
       "3. 'n'\n",
       "4. 'cancer'\n",
       "5. 'n'\n",
       "6. 'n'\n",
       "7. 'n'\n",
       "8. 'n'\n",
       "9. 'cancer'\n",
       "10. 'n'\n",
       "11. 'n'\n",
       "12. 'n'\n",
       "13. 'n'\n",
       "14. 'n'\n",
       "15. 'cancer'\n",
       "16. 'n'\n",
       "17. 'n'\n",
       "18. 'n'\n",
       "19. 'cancer'\n",
       "20. 'cancer'\n",
       "21. 'n'\n",
       "22. 'cancer'\n",
       "23. 'cancer'\n",
       "24. 'n'\n",
       "25. 'n'\n",
       "26. 'n'\n",
       "27. 'n'\n",
       "28. 'cancer'\n",
       "29. 'n'\n",
       "30. 'n'\n",
       "31. 'cancer'\n",
       "32. 'cancer'\n",
       "33. 'cancer'\n",
       "34. 'n'\n",
       "35. 'cancer'\n",
       "36. 'n'\n",
       "37. 'n'\n",
       "38. 'n'\n",
       "39. 'n'\n",
       "40. 'n'\n",
       "41. 'cancer'\n",
       "42. 'cancer'\n",
       "43. 'n'\n",
       "44. 'cancer'\n",
       "45. 'n'\n",
       "46. 'n'\n",
       "47. 'cancer'\n",
       "48. 'cancer'\n",
       "49. 'cancer'\n",
       "50. 'cancer'\n",
       "51. 'cancer'\n",
       "52. 'n'\n",
       "53. 'n'\n",
       "54. 'cancer'\n",
       "55. 'n'\n",
       "56. 'n'\n",
       "57. 'cancer'\n",
       "58. 'cancer'\n",
       "59. 'cancer'\n",
       "60. 'n'\n",
       "61. 'cancer'\n",
       "62. 'n'\n",
       "63. 'cancer'\n",
       "64. 'n'\n",
       "65. 'n'\n",
       "66. 'cancer'\n",
       "67. 'cancer'\n",
       "68. 'cancer'\n",
       "69. 'cancer'\n",
       "70. 'cancer'\n",
       "71. 'cancer'\n",
       "72. 'cancer'\n",
       "73. 'cancer'\n",
       "74. 'cancer'\n",
       "75. 'n'\n",
       "76. 'n'\n",
       "77. 'n'\n",
       "78. 'n'\n",
       "79. 'n'\n",
       "80. 'cancer'\n",
       "81. 'cancer'\n",
       "82. 'n'\n",
       "83. 'cancer'\n",
       "84. 'n'\n",
       "85. 'cancer'\n",
       "86. 'cancer'\n",
       "87. 'n'\n",
       "88. 'cancer'\n",
       "89. 'n'\n",
       "90. 'n'\n",
       "91. 'n'\n",
       "92. 'cancer'\n",
       "93. 'cancer'\n",
       "94. 'n'\n",
       "95. 'n'\n",
       "96. 'cancer'\n",
       "97. 'cancer'\n",
       "98. 'cancer'\n",
       "99. 'cancer'\n",
       "100. 'cancer'\n",
       "101. 'cancer'\n",
       "102. 'cancer'\n",
       "103. 'n'\n",
       "104. 'n'\n",
       "105. 'n'\n",
       "106. 'cancer'\n",
       "107. 'n'\n",
       "108. 'n'\n",
       "109. 'n'\n",
       "110. 'n'\n",
       "111. 'n'\n",
       "112. 'n'\n",
       "113. 'cancer'\n",
       "114. 'cancer'\n",
       "\n",
       "\n"
      ],
      "text/plain": [
       "  [1] \"n\"      \"n\"      \"n\"      \"cancer\" \"n\"      \"n\"      \"n\"      \"n\"     \n",
       "  [9] \"cancer\" \"n\"      \"n\"      \"n\"      \"n\"      \"n\"      \"cancer\" \"n\"     \n",
       " [17] \"n\"      \"n\"      \"cancer\" \"cancer\" \"n\"      \"cancer\" \"cancer\" \"n\"     \n",
       " [25] \"n\"      \"n\"      \"n\"      \"cancer\" \"n\"      \"n\"      \"cancer\" \"cancer\"\n",
       " [33] \"cancer\" \"n\"      \"cancer\" \"n\"      \"n\"      \"n\"      \"n\"      \"n\"     \n",
       " [41] \"cancer\" \"cancer\" \"n\"      \"cancer\" \"n\"      \"n\"      \"cancer\" \"cancer\"\n",
       " [49] \"cancer\" \"cancer\" \"cancer\" \"n\"      \"n\"      \"cancer\" \"n\"      \"n\"     \n",
       " [57] \"cancer\" \"cancer\" \"cancer\" \"n\"      \"cancer\" \"n\"      \"cancer\" \"n\"     \n",
       " [65] \"n\"      \"cancer\" \"cancer\" \"cancer\" \"cancer\" \"cancer\" \"cancer\" \"cancer\"\n",
       " [73] \"cancer\" \"cancer\" \"n\"      \"n\"      \"n\"      \"n\"      \"n\"      \"cancer\"\n",
       " [81] \"cancer\" \"n\"      \"cancer\" \"n\"      \"cancer\" \"cancer\" \"n\"      \"cancer\"\n",
       " [89] \"n\"      \"n\"      \"n\"      \"cancer\" \"cancer\" \"n\"      \"n\"      \"cancer\"\n",
       " [97] \"cancer\" \"cancer\" \"cancer\" \"cancer\" \"cancer\" \"cancer\" \"n\"      \"n\"     \n",
       "[105] \"n\"      \"cancer\" \"n\"      \"n\"      \"n\"      \"n\"      \"n\"      \"n\"     \n",
       "[113] \"cancer\" \"cancer\""
      ]
     },
     "metadata": {},
     "output_type": "display_data"
    },
    {
     "data": {
      "text/html": [
       "<strong>Samples:</strong> 114"
      ],
      "text/latex": [
       "\\textbf{Samples:} 114"
      ],
      "text/markdown": [
       "**Samples:** 114"
      ],
      "text/plain": [
       "Samples \n",
       "    114 "
      ]
     },
     "metadata": {},
     "output_type": "display_data"
    },
    {
     "data": {
      "text/html": [
       "<strong>Features:</strong> 1505"
      ],
      "text/latex": [
       "\\textbf{Features:} 1505"
      ],
      "text/markdown": [
       "**Features:** 1505"
      ],
      "text/plain": [
       "Features \n",
       "    1505 "
      ]
     },
     "metadata": {},
     "output_type": "display_data"
    }
   ],
   "source": [
    "#colnames(data)\n",
    "#rownames(data)\n",
    "ncol(data)\n",
    "nrow(data)\n",
    "\n",
    "#data$disease\n",
    "dataCancerNoCancer = data[, data$disease %in% c(\"n\", \"cancer\")]\n",
    "dataCancerNoCancer$disease\n",
    "\n",
    "ncol(dataCancerNoCancer)\n",
    "nrow(dataCancerNoCancer)"
   ]
  },
  {
   "cell_type": "markdown",
   "id": "62ec5621",
   "metadata": {},
   "source": [
    "## Question i\n",
    "\n",
    "Inspect the data.\n",
    "\n",
    "How many patients are there ($N_{\\textrm{obs}}$)?\n",
    "\n",
    "How many species of microbe were measured ($N_{\\textrm{dim}}$)?\n"
   ]
  },
  {
   "cell_type": "markdown",
   "id": "b6b8c8ba",
   "metadata": {},
   "source": [
    "## Question ii\n",
    "\n",
    "In generalized linear regression (glm) model, the probability that a patient has cancer, given the presence of microbes $X_1,... X_{N-\\textrm{dim}}$ is\n",
    "\n",
    "$p = \\frac{\\operatorname{exp} (\\beta_1 X_1 + ... )}{1+\\operatorname{exp}\\left( \\beta_1 X_1 + ... \\right)}$.\n",
    "\n",
    "This model has a likelihood function $L(\\beta_1, ... \\beta, Y_1,...)$ you can see [here](https://en.wikipedia.org/wiki/Generalized_linear_model). \n",
    "Simply using the maximum likelihood approach is impossible here, since $N_{\\textrm{dim}}>N_{\\textrm{obs}}$. \n",
    "\n",
    "On the other hand, LASSO regression maximizes $L + \\lambda \\sum_i^n | \\beta |$."
   ]
  },
  {
   "cell_type": "markdown",
   "id": "1ce8703a",
   "metadata": {},
   "source": [
    "Perform LASSO regression for a sweep over $\\lambda$.\n",
    "Plot the value of all the parameters $\\beta_i$ versus $\\lambda$.\n"
   ]
  },
  {
   "cell_type": "code",
   "execution_count": 9,
   "id": "3fcaefe6",
   "metadata": {
    "vscode": {
     "languageId": "r"
    }
   },
   "outputs": [
    {
     "data": {
      "image/png": "[encoded data removed]",
      "text/plain": [
       "plot without title"
      ]
     },
     "metadata": {
      "image/png": {
       "height": 420,
       "width": 420
      }
     },
     "output_type": "display_data"
    }
   ],
   "source": [
    "y = factor(dataCancerNoCancer$disease)\n",
    "x = t(exprs(dataCancerNoCancer))\n",
    "\n",
    "lassoFit = glmnet(y=y, x=x, family=\"binomial\")\n",
    "\n",
    "par(bg = \"white\")\n",
    "plot(lassoFit, xvar = \"lambda\", label = TRUE)"
   ]
  },
  {
   "cell_type": "markdown",
   "id": "57c8d9f8",
   "metadata": {},
   "source": [
    "Perform cross-validation for each value of $\\lambda$.\n",
    "What value of $\\lambda$ minimizes the cross-validation error?"
   ]
  },
  {
   "cell_type": "code",
   "execution_count": 11,
   "id": "d77af48a",
   "metadata": {
    "lines_to_next_cell": 2,
    "vscode": {
     "languageId": "r"
    }
   },
   "outputs": [
    {
     "data": {
      "text/plain": [
       "               \n",
       "confusionMatrix cancer  n\n",
       "         cancer     40  4\n",
       "         n          13 57"
      ]
     },
     "metadata": {},
     "output_type": "display_data"
    },
    {
     "data": {
      "image/png": "[encoded data removed]",
      "text/plain": [
       "plot without title"
      ]
     },
     "metadata": {
      "image/png": {
       "height": 420,
       "width": 420
      }
     },
     "output_type": "display_data"
    }
   ],
   "source": [
    "crossValidationOutput <- cv.glmnet(y=factor(dataCancerNoCancer$disease),\n",
    "                                   x=t(exprs(dataCancerNoCancer)), family=\"binomial\")\n",
    "par(bg = \"white\")\n",
    "plot(crossValidationOutput)\n",
    "\n",
    "bestLambda = crossValidationOutput$lambda.min\n",
    "confusionMatrix = predict(lassoFit, newx = t(exprs(dataCancerNoCancer)), type=\"class\",s=bestLambda)\n",
    "table(confusionMatrix, dataCancerNoCancer$disease)"
   ]
  },
  {
   "cell_type": "markdown",
   "id": "03d032ad",
   "metadata": {},
   "source": [
    "## 3.  Elastic Net regression\n",
    "\n",
    "The characteristic feature of Ridge regression is the penalty\n",
    "\n",
    "$$\\mathrm{log}\\left(L(\\beta)\\right) - \\lambda \\sum_i  \\beta_i ^2,$$\n",
    "\n",
    "while the penalty for Lasso regression is\n",
    "\n",
    "$$\\mathrm{log}\\left(L(\\beta)\\right) - \\lambda \\sum_i | \\beta_i |.$$\n",
    "\n",
    "In this Problem Set, we explore the penalty\n",
    "\n",
    "$$\\mathrm{log}\\left(L(\\beta)\\right) - \\lambda \\left(\\alpha \\sum_i | \\beta_i | +  (1-\\alpha) \\sum_i  \\beta_i ^2\\right),$$\n",
    "\n",
    "which is called __Elastic Net__.  \n",
    "\n",
    "i) In parameter space, Ridge Regression corresponds to finding optimal parameters on a circle, while LASSO regression corresponds to finding optimal parameters on a diamond. What shape does Elastic Net correspond to?"
   ]
  },
  {
   "cell_type": "markdown",
   "id": "bc05c239",
   "metadata": {},
   "source": []
  },
  {
   "cell_type": "markdown",
   "id": "0e066c4a",
   "metadata": {},
   "source": [
    "ii). The `glmnet` package was built for Elastic Net regression. Look up the [glmnet package help files](https://www.rdocumentation.org/packages/glmnet/versions/3.0-2/topics/glmnet) to find out how to perform Elastic Net regression for a specific $\\alpha$. Do this for $\\alpha=0.5$, and return the confusion matrix."
   ]
  },
  {
   "cell_type": "code",
   "execution_count": null,
   "id": "e0dea73b",
   "metadata": {
    "vscode": {
     "languageId": "r"
    }
   },
   "outputs": [],
   "source": [
    "# CODE HERE"
   ]
  },
  {
   "cell_type": "markdown",
   "id": "fed4ed19",
   "metadata": {},
   "source": [
    "iii) Perform a sweep over $\\alpha=0$ to $\\alpha=1$. Plot the number of species included versus $\\alpha$.\n",
    "\n",
    "Hint: The cv.glmnet output object has a returns a value `$nzero`, which is the number of nonzero factorso, which is the number of species desired.  "
   ]
  },
  {
   "cell_type": "code",
   "execution_count": null,
   "id": "2b912c6e",
   "metadata": {
    "vscode": {
     "languageId": "r"
    }
   },
   "outputs": [],
   "source": [
    "# CODE HERE"
   ]
  },
  {
   "cell_type": "markdown",
   "id": "f3ab7c71",
   "metadata": {},
   "source": [
    "iv) What $\\alpha$ value minimizes the number of false positives (non-cancer patients that are predicted to have cancer)? What $\\alpha$ value minimizes the number of false negatives (cancer patients that are predicted to not have cancer)?\n"
   ]
  },
  {
   "cell_type": "code",
   "execution_count": null,
   "id": "ffa5c1db",
   "metadata": {
    "vscode": {
     "languageId": "r"
    }
   },
   "outputs": [],
   "source": [
    "# CODE HERE"
   ]
  }
 ],
 "metadata": {
  "kernelspec": {
   "display_name": "R",
   "language": "R",
   "name": "ir"
  },
  "language_info": {
   "codemirror_mode": "r",
   "file_extension": ".r",
   "mimetype": "text/x-r-source",
   "name": "R",
   "pygments_lexer": "r",
   "version": "4.5.0"
  }
 },
 "nbformat": 4,
 "nbformat_minor": 5
}
