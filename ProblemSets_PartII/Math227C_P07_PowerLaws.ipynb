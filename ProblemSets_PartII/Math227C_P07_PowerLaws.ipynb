{
 "cells": [
  {
   "cell_type": "code",
   "execution_count": null,
   "metadata": {
    "vscode": {
     "languageId": "r"
    }
   },
   "outputs": [],
   "source": [
    "print(\"Test me\")\n"
   ]
  },
  {
   "cell_type": "markdown",
   "metadata": {},
   "source": [
    "# Problem set: Power laws and pediatric pharmacokinetics\n",
    "\n",
    "An important challenge in medicine is understanding how a dose of a drug should be adjusted for a specific patient. \n",
    "This is particularly important in pediatrics, where the size and physiology of a child can vary widely.\n",
    "In this problem set, we will explore the relationship between body mass and the __clearance rate__ of a drug from the body.\n",
    "\n",
    "Over decades and indeed centures, many researchers have discovered that __power laws__ with specific powers can accurately predict clearance rates in patients,\n",
    "\n",
    "$ \n",
    "CL = k \\cdot M^\\alpha\n",
    "$\n",
    "\n",
    "where $CL$ is the clearance rate, $M$ is the body mass, $k$ is a constant, and $\\alpha$ is the power.\n",
    "\n",
    "\n",
    "\n"
   ]
  },
  {
   "cell_type": "markdown",
   "metadata": {},
   "source": []
  }
 ],
 "metadata": {
  "kernelspec": {
   "display_name": "R",
   "language": "R",
   "name": "ir"
  },
  "language_info": {
   "codemirror_mode": "r",
   "file_extension": ".r",
   "mimetype": "text/x-r-source",
   "name": "R",
   "pygments_lexer": "r",
   "version": "4.4.3"
  }
 },
 "nbformat": 4,
 "nbformat_minor": 4
}
