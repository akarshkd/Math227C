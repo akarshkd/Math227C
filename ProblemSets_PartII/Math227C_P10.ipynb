{
 "cells": [
  {
   "cell_type": "markdown",
   "id": "5757dfb6",
   "metadata": {},
   "source": [
    "# Problem 10: Propotional hazards"
   ]
  },
  {
   "cell_type": "markdown",
   "id": "490d4bf1",
   "metadata": {},
   "source": [
    "# Part I: How good is the standard error of the mean formula?\n",
    "\n",
    "Suppose we have $N$ identically distributied normal random variables with mean $\\mu_{\\textrm{GT}}$ and standard deviation $\\sigma_{\\textrm{GT}}$.\n",
    "\n",
    "The maximum likelihood estimate of $\\mu$ is $\\tilde \\mu = 1/N \\sum X_i$ (unsurprisingly!).\n",
    "\n",
    "The maximum likelihood estimate of $\\sigma$ is $\\tilde{\\sigma} = \\sqrt{ 1/N \\sum \\left(X_i - \\tilde{\\mu}\\right)^2}$ (unsurprisingly!). \n",
    "\n",
    "In Part I, we will explore the question, What is the uncertainty in $\\tilde{\\mu}$, the estimate of $\\mu$?\n",
    "\n",
    "The following code generates a sample of $N_{\\textrm{obs}}=20$ normal random variables."
   ]
  },
  {
   "cell_type": "code",
   "execution_count": null,
   "id": "18d802bc",
   "metadata": {
    "execution": {
     "iopub.execute_input": "2025-04-15T00:05:57.859103Z",
     "iopub.status.busy": "2025-04-15T00:05:57.858161Z",
     "iopub.status.idle": "2025-04-15T00:05:57.892020Z",
     "shell.execute_reply": "2025-04-15T00:05:57.891263Z"
    },
    "vscode": {
     "languageId": "r"
    }
   },
   "outputs": [],
   "source": [
    "NObs <- 20\n",
    "original_sample <- rnorm(NObs,178.1,12.1)"
   ]
  },
  {
   "cell_type": "markdown",
   "id": "cfdb9f15",
   "metadata": {},
   "source": [
    "## Question i\n",
    "Use nonparametric bootstrap to sample $N_{\\textrm{obs}}$ of the original sample. \n",
    "Compute the standard deviation of the $\\tilde{\\mu}$'s."
   ]
  },
  {
   "cell_type": "markdown",
   "id": "15c1e428",
   "metadata": {},
   "source": [
    "The standard deviation of $\\tilde{\\mu}$ is a measure of the uncertainty in the estimate of $\\mu$.  \n",
    "\n",
    "Do this for a range of $N_{\\rm obs}$, ranging from 10 to 10000. \n",
    "(This is a big loop. If it is slow on your computational machine, feel free to skip, e.g., every 10th or 20th value of $N_{\\rm obs}$.) . \n",
    "Plot the standard deviation of $\\tilde{\\mu}$ versus $N$. "
   ]
  },
  {
   "cell_type": "code",
   "execution_count": null,
   "id": "3c5860a4",
   "metadata": {
    "execution": {
     "iopub.execute_input": "2025-04-15T00:05:57.904983Z",
     "iopub.status.busy": "2025-04-15T00:05:57.893784Z",
     "iopub.status.idle": "2025-04-15T00:05:57.909735Z",
     "shell.execute_reply": "2025-04-15T00:05:57.909106Z"
    },
    "lines_to_next_cell": 2,
    "vscode": {
     "languageId": "r"
    }
   },
   "outputs": [],
   "source": [
    "\n",
    "# the (sqrt)variance in the estimate of the mean -- nonparemetric bootstrap\n",
    "\n",
    "# the ground truth standard deviation of the normal distrubtion\n",
    "# the standard deviation of the sample\n",
    "\n",
    "# the (sqrt)variance in the estimate of the mean -- the textbook way, called \"SEM\"\n",
    "\n",
    "\n"
   ]
  },
  {
   "cell_type": "markdown",
   "id": "270c905c",
   "metadata": {},
   "source": [
    "## Question ii\n",
    "In this simple case, according to standard textbooks, there is a formula for the uncertainty in the estimate of $\\mu$, called the __standard error of the mean__, which is\n",
    "\n",
    "$SEM = \\hat{\\sigma}/\\sqrt{N_{\\rm obs}}$.\n",
    "\n",
    "Plot the standard deviation of $\\hat{\\mu}$ from non-parametric bootstrap versus $N_{\\rm obs}$.\n",
    "\n",
    "On the same axis, plot $\\hat{\\sigma}/\\sqrt{N_{\\rm obs}}$ versus $N_{\\rm obs}$.\n",
    "\n",
    "Do they agree?"
   ]
  },
  {
   "cell_type": "code",
   "execution_count": null,
   "id": "a899ba1b",
   "metadata": {
    "execution": {
     "iopub.execute_input": "2025-04-15T00:05:57.911890Z",
     "iopub.status.busy": "2025-04-15T00:05:57.911412Z",
     "iopub.status.idle": "2025-04-15T00:05:57.915816Z",
     "shell.execute_reply": "2025-04-15T00:05:57.915198Z"
    },
    "vscode": {
     "languageId": "r"
    }
   },
   "outputs": [],
   "source": [
    "\n",
    "# plot SEM from the textbook formula, and the standard deviation of mu-hat from bootstrap to see if they agree\n",
    "\n"
   ]
  },
  {
   "cell_type": "markdown",
   "id": "6a302291",
   "metadata": {},
   "source": [
    "# Part II: Cox proportional hazards model on liver disease data\n"
   ]
  },
  {
   "cell_type": "code",
   "execution_count": null,
   "id": "a3641d20",
   "metadata": {
    "execution": {
     "iopub.execute_input": "2025-04-15T00:05:57.917823Z",
     "iopub.status.busy": "2025-04-15T00:05:57.917366Z",
     "iopub.status.idle": "2025-04-15T00:05:58.550080Z",
     "shell.execute_reply": "2025-04-15T00:05:58.549379Z"
    },
    "vscode": {
     "languageId": "r"
    }
   },
   "outputs": [],
   "source": [
    "# Install required packages if not already installed\n",
    "if (!requireNamespace(\"BiocManager\", quietly = TRUE)) {\n",
    "  install.packages(\"BiocManager\")\n",
    "}\n",
    "if (!requireNamespace(\"curatedBreastData\", quietly = TRUE)) {\n",
    "  BiocManager::install(\"curatedBreastData\")\n",
    "}\n",
    "if (!requireNamespace(\"survival\", quietly = TRUE)) {\n",
    "  install.packages(\"survival\")\n",
    "}\n",
    "if (!requireNamespace(\"ggplot2\", quietly = TRUE)) {\n",
    "  install.packages(\"ggplot2\")\n",
    "}"
   ]
  },
  {
   "cell_type": "code",
   "execution_count": null,
   "id": "3d1e32de",
   "metadata": {
    "execution": {
     "iopub.execute_input": "2025-04-15T00:05:58.552373Z",
     "iopub.status.busy": "2025-04-15T00:05:58.551779Z",
     "iopub.status.idle": "2025-04-15T00:05:58.606694Z",
     "shell.execute_reply": "2025-04-15T00:05:58.606134Z"
    },
    "vscode": {
     "languageId": "r"
    }
   },
   "outputs": [],
   "source": [
    "# Load required libraries\n",
    "library(curatedBreastData)\n",
    "library(survival)\n",
    "library(ggplot2)\n",
    "library(dplyr)\n"
   ]
  },
  {
   "cell_type": "markdown",
   "id": "9ed6d991",
   "metadata": {},
   "source": [
    "To model an event that happens over time -- for example here, a death due to liver disease or breast cancer -- a powerful modeling framework is the Generalized Poisson Process, where the parameter is a function of time, and is called the hazard rate.\n",
    "Furthermore, to predict how this depends on covariates, a commonly-used model is the Cox proportional Hazards Model.\n"
   ]
  },
  {
   "cell_type": "markdown",
   "id": "81a62182",
   "metadata": {},
   "source": [
    "## Question i\n",
    "\n",
    "Learn about the Cox Proportional Hazards Model on wikipedia or elsewhere.\n",
    "What is the likelihood function of the Cox Proportional Hazards Model?"
   ]
  },
  {
   "cell_type": "code",
   "execution_count": null,
   "id": "331ad041",
   "metadata": {
    "execution": {
     "iopub.execute_input": "2025-04-15T00:05:58.608567Z",
     "iopub.status.busy": "2025-04-15T00:05:58.608170Z",
     "iopub.status.idle": "2025-04-15T00:05:58.612252Z",
     "shell.execute_reply": "2025-04-15T00:05:58.611711Z"
    },
    "lines_to_next_cell": 2,
    "vscode": {
     "languageId": "r"
    }
   },
   "outputs": [],
   "source": [
    "\n",
    "# likelihood function of the Cox Proportional Hazards Model\n"
   ]
  },
  {
   "cell_type": "markdown",
   "id": "fbff6b39",
   "metadata": {
    "lines_to_next_cell": 0
   },
   "source": [
    "## Question ii\n",
    "\n",
    "Access the following public dataset on breast cancer survival:"
   ]
  },
  {
   "cell_type": "code",
   "execution_count": null,
   "id": "d09bf8e6",
   "metadata": {
    "execution": {
     "iopub.execute_input": "2025-04-15T00:05:58.617290Z",
     "iopub.status.busy": "2025-04-15T00:05:58.613759Z",
     "iopub.status.idle": "2025-04-15T00:05:58.650696Z",
     "shell.execute_reply": "2025-04-15T00:05:58.650135Z"
    },
    "vscode": {
     "languageId": "r"
    }
   },
   "outputs": [],
   "source": [
    "# Load the curatedBreastData clinical data\n",
    "data(clinicalData)\n",
    "\n",
    "# Extract the clinical data table\n",
    "clinical_df <- clinicalData$clinicalTable\n",
    "\n",
    "# Explore survival data availability\n",
    "cat(\"Total number of samples:\", nrow(clinical_df), \"\\n\")\n",
    "cat(\"Samples with Overall Survival (OS) data:\", sum(!is.na(clinical_df$OS)), \"\\n\")\n",
    "cat(\"Samples with OS months data:\", sum(!is.na(clinical_df$OS_months_or_MIN_months_of_OS)), \"\\n\")\n",
    "cat(\"Samples with definitive follow-up until death:\", sum(!is.na(clinical_df$OS_up_until_death)), \"\\n\")\n",
    "\n",
    "colnames(clinicalData$clinicalTable)\n"
   ]
  },
  {
   "cell_type": "markdown",
   "id": "792ccef0",
   "metadata": {},
   "source": [
    "The following code restricts the data to a clean subset with only a few covariates for the purposes of this assignment."
   ]
  },
  {
   "cell_type": "code",
   "execution_count": null,
   "id": "dc034c3e",
   "metadata": {
    "execution": {
     "iopub.execute_input": "2025-04-15T00:05:58.652602Z",
     "iopub.status.busy": "2025-04-15T00:05:58.652172Z",
     "iopub.status.idle": "2025-04-15T00:05:58.669269Z",
     "shell.execute_reply": "2025-04-15T00:05:58.668693Z"
    },
    "vscode": {
     "languageId": "r"
    }
   },
   "outputs": [],
   "source": [
    "# Create the dataset for analysis\n",
    "surv_data <- clinical_df %>%\n",
    "  select(\n",
    "    OS,\n",
    "    OS_months_or_MIN_months_of_OS,\n",
    "    HER2_preTrt,\n",
    "    age,\n",
    "  ) %>%\n",
    "  # Filter to only include complete cases for these key variables\n",
    "  filter(\n",
    "    !is.na(OS),\n",
    "    !is.na(OS_months_or_MIN_months_of_OS),\n",
    "    !is.na(HER2_preTrt),\n",
    "    !is.na(age)\n",
    "  )\n",
    "\n",
    "# Check how many complete cases we have\n",
    "cat(\"\\nNumber of complete cases for Cox model:\", nrow(surv_data), \"\\n\")\n",
    "\n",
    "# Convert categorical variables to factors\n",
    "surv_data$HER2_preTrt <- factor(surv_data$HER2_preTrt)\n",
    "\n",
    "# Display summary statistics\n",
    "cat(\"\\nSummary of our filtered dataset:\\n\")\n",
    "print(summary(surv_data))"
   ]
  },
  {
   "cell_type": "markdown",
   "id": "d05de514",
   "metadata": {},
   "source": [
    "How many patients are there in the cleaned dataset?"
   ]
  },
  {
   "cell_type": "markdown",
   "id": "2d2f2822",
   "metadata": {},
   "source": [
    "## Question iii\n",
    "\n",
    "Use the R function to fit this data to the cox proportional hazards model on the full dataset. \n",
    "Plot the mean survival function (which is the complement of the cumulative distribution function of survival times)."
   ]
  },
  {
   "cell_type": "code",
   "execution_count": null,
   "id": "d3fc7334",
   "metadata": {
    "execution": {
     "iopub.execute_input": "2025-04-15T00:05:58.671267Z",
     "iopub.status.busy": "2025-04-15T00:05:58.670830Z",
     "iopub.status.idle": "2025-04-15T00:05:58.759082Z",
     "shell.execute_reply": "2025-04-15T00:05:58.732801Z"
    },
    "vscode": {
     "languageId": "r"
    }
   },
   "outputs": [],
   "source": [
    "\n",
    "# Fit Cox Proportional Hazards model with the selected variables\n",
    "cox_formula <- Surv(OS_months_or_MIN_months_of_OS, OS) ~ \n",
    "  HER2_preTrt + \n",
    "  age\n",
    "\n",
    "# Initial model fit\n",
    "initial_cox_model <- coxph(cox_formula, data = surv_data)\n",
    "print(summary(initial_cox_model))\n",
    "\n",
    "# Survival curve for average covariates (mean of training set)\n",
    "sf_mean <- survfit(initial_cox_model)\n",
    "\n",
    "plot(sf_mean, col = \"blue\", lty = 2, xlab = \"Time\", ylab = \"Survival Probability\",\n",
    "     main = \"Survival Curves\")\n"
   ]
  },
  {
   "cell_type": "markdown",
   "id": "74d0030d",
   "metadata": {},
   "source": [
    "## Question iv\n",
    "\n",
    "Suppose a new patient (called `fictitious_patient`) has the following information. "
   ]
  },
  {
   "cell_type": "code",
   "execution_count": null,
   "id": "a4bcf486",
   "metadata": {
    "execution": {
     "iopub.execute_input": "2025-04-15T00:05:58.761251Z",
     "iopub.status.busy": "2025-04-15T00:05:58.760773Z",
     "iopub.status.idle": "2025-04-15T00:05:58.766328Z",
     "shell.execute_reply": "2025-04-15T00:05:58.765724Z"
    },
    "vscode": {
     "languageId": "r"
    }
   },
   "outputs": [],
   "source": [
    "\n",
    "fictitious_patient <- surv_data[1, , drop = FALSE]  # copy structure\n",
    "fictitious_patient$HER2_preTrt <- factor(\"1\", levels = levels(surv_data$HER2_preTrt))\n",
    "fictitious_patient$age <- 45\n"
   ]
  },
  {
   "cell_type": "markdown",
   "id": "eface89a",
   "metadata": {},
   "source": [
    "According to the cox model you learned from the public dataset, what is their 3-year survival probability?"
   ]
  },
  {
   "cell_type": "code",
   "execution_count": null,
   "id": "c6d66304",
   "metadata": {
    "execution": {
     "iopub.execute_input": "2025-04-15T00:05:58.768408Z",
     "iopub.status.busy": "2025-04-15T00:05:58.767939Z",
     "iopub.status.idle": "2025-04-15T00:05:58.776449Z",
     "shell.execute_reply": "2025-04-15T00:05:58.775878Z"
    },
    "vscode": {
     "languageId": "r"
    }
   },
   "outputs": [],
   "source": [
    "# Survival curve for the fictitious patient\n",
    "sf_fict <- survfit(initial_cox_model, newdata = fictitious_patient)\n",
    "\n",
    "three_years_in_months <- 3*12\n",
    "\n",
    "# Find the closest time point to 3 years in the survival curve\n",
    "closest_time_idx <- which.min(abs(sf_fict$time - three_years_in_months))\n",
    "three_year_surv_prob <- sf_fict$surv[closest_time_idx]\n",
    "\n",
    "cat(\"\\n3-year survival probability for fictitious patient:\", \n",
    "    round(three_year_surv_prob * 100, 1), \"%\\n\")"
   ]
  },
  {
   "cell_type": "markdown",
   "id": "df42f9e4",
   "metadata": {},
   "source": [
    "## Question v\n",
    "\n",
    "Perform a Bootstrap by repeating the cox learning algorithm, with `n_bootstrap = 200` resamplings of the patient data.\n",
    "What is the standard deviation of the estimate of the 3-year survival probability? \n",
    "Note this is assuming you have data on `nrow(surv_data)` patients."
   ]
  },
  {
   "cell_type": "code",
   "execution_count": null,
   "id": "a2a0ae04",
   "metadata": {
    "execution": {
     "iopub.execute_input": "2025-04-15T00:05:58.778558Z",
     "iopub.status.busy": "2025-04-15T00:05:58.778047Z",
     "iopub.status.idle": "2025-04-15T00:05:58.782546Z",
     "shell.execute_reply": "2025-04-15T00:05:58.781965Z"
    },
    "lines_to_next_cell": 2,
    "vscode": {
     "languageId": "r"
    }
   },
   "outputs": [],
   "source": [
    "\n",
    "# Bootstrap with n_bootstrap = 200 and sample_size = nrow(surv_data)\n"
   ]
  },
  {
   "cell_type": "markdown",
   "id": "3c1b965b",
   "metadata": {},
   "source": [
    "## Question vi\n",
    "\n",
    "Repeat the Bootstrap but for `sample_sizes <- 50:200`.\n",
    "How many patient samples would be needed to estimate the Fictitious Patient's 3-year survival probability to within 5%?"
   ]
  },
  {
   "cell_type": "code",
   "execution_count": null,
   "id": "4f0a00ea",
   "metadata": {
    "execution": {
     "iopub.execute_input": "2025-04-15T00:05:58.784513Z",
     "iopub.status.busy": "2025-04-15T00:05:58.784082Z",
     "iopub.status.idle": "2025-04-15T00:05:58.788263Z",
     "shell.execute_reply": "2025-04-15T00:05:58.787671Z"
    },
    "lines_to_next_cell": 0,
    "vscode": {
     "languageId": "r"
    }
   },
   "outputs": [],
   "source": [
    "# Bootstrap for sample sizes from 50 to 200"
   ]
  },
  {
   "cell_type": "markdown",
   "id": "f700783e",
   "metadata": {},
   "source": [
    "\n"
   ]
  }
 ],
 "metadata": {
  "kernelspec": {
   "display_name": "R",
   "language": "r",
   "name": "ir"
  },
  "language_info": {
   "codemirror_mode": "r",
   "file_extension": ".r",
   "mimetype": "text/x-r-source",
   "name": "R",
   "pygments_lexer": "r",
   "version": "4.4.3"
  }
 },
 "nbformat": 4,
 "nbformat_minor": 5
}
