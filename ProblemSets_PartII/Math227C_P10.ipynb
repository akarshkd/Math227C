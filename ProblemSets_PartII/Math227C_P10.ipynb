{
 "cells": [
  {
   "cell_type": "markdown",
   "id": "5757dfb6",
   "metadata": {},
   "source": [
    "# Problem 10: Proportional hazards"
   ]
  },
  {
   "cell_type": "markdown",
   "id": "490d4bf1",
   "metadata": {},
   "source": [
    "# Part I: How good is the standard error of the mean formula?\n",
    "\n",
    "Suppose we have $N$ identically distributied normal random variables with mean $\\mu_{\\textrm{GT}}$ and standard deviation $\\sigma_{\\textrm{GT}}$.\n",
    "\n",
    "The maximum likelihood estimate of $\\mu$ is $\\tilde \\mu = 1/N \\sum X_i$ (unsurprisingly!).\n",
    "\n",
    "The maximum likelihood estimate of $\\sigma$ is $\\tilde{\\sigma} = \\sqrt{ 1/N \\sum \\left(X_i - \\tilde{\\mu}\\right)^2}$ (unsurprisingly!). \n",
    "\n",
    "In Part I, we will explore the question, What is the uncertainty in $\\tilde{\\mu}$, the estimate of $\\mu$?\n",
    "\n",
    "The following code generates a sample of $N_{\\textrm{obs}}=20$ normal random variables."
   ]
  },
  {
   "cell_type": "code",
   "execution_count": 5,
   "id": "18d802bc",
   "metadata": {
    "execution": {
     "iopub.execute_input": "2025-04-15T00:05:57.859103Z",
     "iopub.status.busy": "2025-04-15T00:05:57.858161Z",
     "iopub.status.idle": "2025-04-15T00:05:57.892020Z",
     "shell.execute_reply": "2025-04-15T00:05:57.891263Z"
    },
    "vscode": {
     "languageId": "r"
    }
   },
   "outputs": [],
   "source": [
    "NObs <- 20\n",
    "original_sample <- rnorm(NObs,178.1,12.1)"
   ]
  },
  {
   "cell_type": "markdown",
   "id": "cfdb9f15",
   "metadata": {},
   "source": [
    "## Question i\n",
    "Use nonparametric bootstrap to sample $N_{\\textrm{obs}}$ of the original sample. \n",
    "Compute the standard deviation of the $\\tilde{\\mu}$'s."
   ]
  },
  {
   "cell_type": "markdown",
   "id": "15c1e428",
   "metadata": {},
   "source": [
    "The standard deviation of $\\tilde{\\mu}$ is a measure of the uncertainty in the estimate of $\\mu$.  \n",
    "\n",
    "Do this for a range of $N_{\\rm obs}$, ranging from 10 to 10000. \n",
    "(This is a big loop. If it is slow on your computational machine, feel free to skip, e.g., every 10th or 20th value of $N_{\\rm obs}$.) . \n",
    "Plot the standard deviation of $\\tilde{\\mu}$ versus $N$. "
   ]
  },
  {
   "cell_type": "code",
   "execution_count": null,
   "id": "3c5860a4",
   "metadata": {
    "execution": {
     "iopub.execute_input": "2025-04-15T00:05:57.904983Z",
     "iopub.status.busy": "2025-04-15T00:05:57.893784Z",
     "iopub.status.idle": "2025-04-15T00:05:57.909735Z",
     "shell.execute_reply": "2025-04-15T00:05:57.909106Z"
    },
    "lines_to_next_cell": 2,
    "vscode": {
     "languageId": "r"
    }
   },
   "outputs": [
    {
     "data": {
      "image/png": "[encoded data removed]",
      "text/plain": [
       "Plot with title \"Bootstrap Estimate of Uncertainty in Mean\""
      ]
     },
     "metadata": {
      "image/png": {
       "height": 420,
       "width": 420
      }
     },
     "output_type": "display_data"
    }
   ],
   "source": [
    "# the (sqrt)variance in the estimate of the mean -- nonparametric bootstrap\n",
    "# the ground truth standard deviation of the normal distrubtion\n",
    "# the standard deviation of the sample\n",
    "# the (sqrt)variance in the estimate of the mean -- the textbook way, called \"SEM\"\n",
    "\n",
    "set.seed(42)\n",
    "max_size <- 10000\n",
    "orig <- rnorm(max_size, 178.1, 12.1)\n",
    "\n",
    "N_vals <- seq(10, 10000, by = 50)\n",
    "std_devs <- numeric(length(N_vals))\n",
    "B <- 500\n",
    "\n",
    "# Loop over different sample sizes\n",
    "for (i in seq_along(N_vals)) {\n",
    "  N <- N_vals[i]\n",
    "  bootstrap_means <- numeric(B)\n",
    "  \n",
    "  for (b in 1:B) {\n",
    "    sample_data <- sample(orig, size = N, replace = TRUE)\n",
    "    bootstrap_means[b] <- mean(sample_data)\n",
    "  }\n",
    "  \n",
    "  std_devs[i] <- sd(bootstrap_means)\n",
    "}\n",
    "\n",
    "# Plot standard deviation of mean vs. sample size\n",
    "par(bg=\"white\")\n",
    "plot(N_vals, std_devs, type = \"l\",\n",
    "     xlab = \"Sample Size (N)\", ylab = \"SD of Bootstrap Means\",\n",
    "     main = \"Standard Deviation v/s Nobs\")\n"
   ]
  },
  {
   "cell_type": "markdown",
   "id": "270c905c",
   "metadata": {},
   "source": [
    "## Question ii\n",
    "In this simple case, according to standard textbooks, there is a formula for the uncertainty in the estimate of $\\mu$, called the __standard error of the mean__, which is\n",
    "\n",
    "$SEM = \\hat{\\sigma}/\\sqrt{N_{\\rm obs}}$.\n",
    "\n",
    "Plot the standard deviation of $\\hat{\\mu}$ from non-parametric bootstrap versus $N_{\\rm obs}$.\n",
    "\n",
    "On the same axis, plot $\\hat{\\sigma}/\\sqrt{N_{\\rm obs}}$ versus $N_{\\rm obs}$.\n",
    "\n",
    "Do they agree?"
   ]
  },
  {
   "cell_type": "code",
   "execution_count": null,
   "id": "a899ba1b",
   "metadata": {
    "execution": {
     "iopub.execute_input": "2025-04-15T00:05:57.911890Z",
     "iopub.status.busy": "2025-04-15T00:05:57.911412Z",
     "iopub.status.idle": "2025-04-15T00:05:57.915816Z",
     "shell.execute_reply": "2025-04-15T00:05:57.915198Z"
    },
    "vscode": {
     "languageId": "r"
    }
   },
   "outputs": [
    {
     "data": {
      "image/png": "[encoded data removed]",
      "text/plain": [
       "Plot with title \"Empirical Bootstrap SEM vs. Theoretical SEM\""
      ]
     },
     "metadata": {
      "image/png": {
       "height": 420,
       "width": 420
      }
     },
     "output_type": "display_data"
    }
   ],
   "source": [
    "set.seed(42)\n",
    "max_size <- 10000\n",
    "orig <- rnorm(max_size, 178.1, 12.1)\n",
    "\n",
    "N_vals <- seq(10, 10000, by = 50)\n",
    "empirical_sem <- numeric(length(N_vals))\n",
    "B <- 500\n",
    "\n",
    "# Bootstrap loop to estimate SEM\n",
    "for (i in seq_along(N_vals)) {\n",
    "  N <- N_vals[i]\n",
    "  bootstrap_means <- numeric(B)\n",
    "  \n",
    "  for (b in 1:B) {\n",
    "    sample_data <- sample(orig, size = N, replace = TRUE)\n",
    "    bootstrap_means[b] <- mean(sample_data)\n",
    "  }\n",
    "  \n",
    "  empirical_sem[i] <- sd(bootstrap_means)  # this is SEM, not SD of data\n",
    "}\n",
    "\n",
    "# Plot\n",
    "par(bg = \"white\")\n",
    "plot(N_vals, empirical_sem, type = \"l\",\n",
    "     xlab = \"Sample Size (N)\", ylab = \"Standard Error of the Mean (SEM)\",\n",
    "     main = \"SEM vs. Nobs\")"
   ]
  },
  {
   "cell_type": "markdown",
   "id": "6a302291",
   "metadata": {},
   "source": [
    "# Part II: Cox proportional hazards model on breast cancer data\n"
   ]
  },
  {
   "cell_type": "code",
   "execution_count": null,
   "id": "be9e6816",
   "metadata": {
    "vscode": {
     "languageId": "r"
    }
   },
   "outputs": [],
   "source": []
  },
  {
   "cell_type": "code",
   "execution_count": 8,
   "id": "a3641d20",
   "metadata": {
    "execution": {
     "iopub.execute_input": "2025-04-15T00:05:57.917823Z",
     "iopub.status.busy": "2025-04-15T00:05:57.917366Z",
     "iopub.status.idle": "2025-04-15T00:05:58.550080Z",
     "shell.execute_reply": "2025-04-15T00:05:58.549379Z"
    },
    "vscode": {
     "languageId": "r"
    }
   },
   "outputs": [],
   "source": [
    "# Install required packages if not already installed\n",
    "if (!requireNamespace(\"BiocManager\", quietly = TRUE)) {\n",
    "  install.packages(\"BiocManager\")\n",
    "}\n",
    "if (!requireNamespace(\"curatedBreastData\", quietly = TRUE)) {\n",
    "  BiocManager::install(\"curatedBreastData\")\n",
    "}\n",
    "if (!requireNamespace(\"survival\", quietly = TRUE)) {\n",
    "  install.packages(\"survival\")\n",
    "}\n",
    "if (!requireNamespace(\"ggplot2\", quietly = TRUE)) {\n",
    "  install.packages(\"ggplot2\")\n",
    "}"
   ]
  },
  {
   "cell_type": "code",
   "execution_count": 9,
   "id": "3d1e32de",
   "metadata": {
    "execution": {
     "iopub.execute_input": "2025-04-15T00:05:58.552373Z",
     "iopub.status.busy": "2025-04-15T00:05:58.551779Z",
     "iopub.status.idle": "2025-04-15T00:05:58.606694Z",
     "shell.execute_reply": "2025-04-15T00:05:58.606134Z"
    },
    "vscode": {
     "languageId": "r"
    }
   },
   "outputs": [
    {
     "name": "stderr",
     "output_type": "stream",
     "text": [
      "Loading required package: XML\n",
      "\n",
      "Loading required package: ggplot2\n",
      "\n",
      "Loading required package: impute\n",
      "\n",
      "Loading required package: Biobase\n",
      "\n",
      "Loading required package: BiocGenerics\n",
      "\n",
      "Loading required package: generics\n",
      "\n",
      "\n",
      "Attaching package: 'generics'\n",
      "\n",
      "\n",
      "The following objects are masked from 'package:base':\n",
      "\n",
      "    as.difftime, as.factor, as.ordered, intersect, is.element, setdiff,\n",
      "    setequal, union\n",
      "\n",
      "\n",
      "\n",
      "Attaching package: 'BiocGenerics'\n",
      "\n",
      "\n",
      "The following objects are masked from 'package:stats':\n",
      "\n",
      "    IQR, mad, sd, var, xtabs\n",
      "\n",
      "\n",
      "The following objects are masked from 'package:base':\n",
      "\n",
      "    anyDuplicated, aperm, append, as.data.frame, basename, cbind,\n",
      "    colnames, dirname, do.call, duplicated, eval, evalq, Filter, Find,\n",
      "    get, grep, grepl, is.unsorted, lapply, Map, mapply, match, mget,\n",
      "    order, paste, pmax, pmax.int, pmin, pmin.int, Position, rank,\n",
      "    rbind, Reduce, rownames, sapply, saveRDS, table, tapply, unique,\n",
      "    unsplit, which.max, which.min\n",
      "\n",
      "\n",
      "Welcome to Bioconductor\n",
      "\n",
      "    Vignettes contain introductory material; view with\n",
      "    'browseVignettes()'. To cite Bioconductor, see\n",
      "    'citation(\"Biobase\")', and for packages 'citation(\"pkgname\")'.\n",
      "\n",
      "\n",
      "Loading required package: BiocStyle\n",
      "\n",
      "\n",
      "Attaching package: 'dplyr'\n",
      "\n",
      "\n",
      "The following object is masked from 'package:Biobase':\n",
      "\n",
      "    combine\n",
      "\n",
      "\n",
      "The following objects are masked from 'package:BiocGenerics':\n",
      "\n",
      "    combine, intersect, setdiff, setequal, union\n",
      "\n",
      "\n",
      "The following object is masked from 'package:generics':\n",
      "\n",
      "    explain\n",
      "\n",
      "\n",
      "The following objects are masked from 'package:stats':\n",
      "\n",
      "    filter, lag\n",
      "\n",
      "\n",
      "The following objects are masked from 'package:base':\n",
      "\n",
      "    intersect, setdiff, setequal, union\n",
      "\n",
      "\n"
     ]
    }
   ],
   "source": [
    "# Load required libraries\n",
    "library(curatedBreastData)\n",
    "library(survival)\n",
    "library(ggplot2)\n",
    "library(dplyr)\n"
   ]
  },
  {
   "cell_type": "markdown",
   "id": "9ed6d991",
   "metadata": {},
   "source": [
    "To model an event that happens over time -- for example here, a death due to liver disease or breast cancer -- a powerful modeling framework is the Generalized Poisson Process, where the parameter is a function of time, and is called the hazard rate.\n",
    "Furthermore, to predict how this depends on covariates, a commonly-used model is the Cox proportional Hazards Model.\n"
   ]
  },
  {
   "cell_type": "markdown",
   "id": "81a62182",
   "metadata": {},
   "source": [
    "## Question i\n",
    "\n",
    "Learn about the Cox Proportional Hazards Model on wikipedia or elsewhere.\n",
    "What is the likelihood function of the Cox Proportional Hazards Model?"
   ]
  },
  {
   "cell_type": "code",
   "execution_count": 10,
   "id": "331ad041",
   "metadata": {
    "execution": {
     "iopub.execute_input": "2025-04-15T00:05:58.608567Z",
     "iopub.status.busy": "2025-04-15T00:05:58.608170Z",
     "iopub.status.idle": "2025-04-15T00:05:58.612252Z",
     "shell.execute_reply": "2025-04-15T00:05:58.611711Z"
    },
    "lines_to_next_cell": 2,
    "vscode": {
     "languageId": "r"
    }
   },
   "outputs": [],
   "source": [
    "\n",
    "# likelihood function of the Cox Proportional Hazards Model\n"
   ]
  },
  {
   "cell_type": "markdown",
   "id": "fbff6b39",
   "metadata": {
    "lines_to_next_cell": 0
   },
   "source": [
    "## Question ii\n",
    "\n",
    "Access the following public dataset on breast cancer survival:"
   ]
  },
  {
   "cell_type": "code",
   "execution_count": 11,
   "id": "d09bf8e6",
   "metadata": {
    "execution": {
     "iopub.execute_input": "2025-04-15T00:05:58.617290Z",
     "iopub.status.busy": "2025-04-15T00:05:58.613759Z",
     "iopub.status.idle": "2025-04-15T00:05:58.650696Z",
     "shell.execute_reply": "2025-04-15T00:05:58.650135Z"
    },
    "vscode": {
     "languageId": "r"
    }
   },
   "outputs": [
    {
     "name": "stdout",
     "output_type": "stream",
     "text": [
      "Total number of samples: 2719 \n",
      "Samples with Overall Survival (OS) data: 409 \n",
      "Samples with OS months data: 406 \n",
      "Samples with definitive follow-up until death: 211 \n"
     ]
    },
    {
     "data": {
      "text/html": [
       "<style>\n",
       ".list-inline {list-style: none; margin:0; padding: 0}\n",
       ".list-inline>li {display: inline-block}\n",
       ".list-inline>li:not(:last-child)::after {content: \"\\00b7\"; padding: 0 .5ex}\n",
       "</style>\n",
       "<ol class=list-inline><li>'dbUniquePatientID'</li><li>'study_ID'</li><li>'patient_ID'</li><li>'GEO_GSMID'</li><li>'platform_ID'</li><li>'GEO_platform_ID'</li><li>'AE_platform_ID'</li><li>'original_study_patient_ID'</li><li>'site_ID'</li><li>'site_ID_preprocessed'</li><li>'biopsy_preTreat'</li><li>'biopsy_postTrt_days'</li><li>'pCR_postTrt_days'</li><li>'tumor_size_cm_preTrt_preSurgery'</li><li>'tumor_size_cm_secondAxis_preTrt_preSurgery'</li><li>'tumor_size_cm_preTrt_preSurgeryMin'</li><li>'tumor_size_cm_postTrt'</li><li>'treatment_protocol_number'</li><li>'clinical_AJCC_stage'</li><li>'clinical_AJCC_stageRangeMin'</li><li>'clinical_AJCC_stageRangeMax'</li><li>'preTrt_lymph_node_status'</li><li>'postTrt_lymph_node_status'</li><li>'preTrt_totalLymphNodes'</li><li>'preTrt_numPosLymphNodes'</li><li>'preTrt_numPosLymphNodesRemoved'</li><li>'postTrt_totalLymphNodes'</li><li>'postTrt_numPosLymphNodes'</li><li>'preTrt_posDichLymphNodes'</li><li>'notthingham_prognostic_index'</li><li>'tumor_stage_preTrt'</li><li>'tumor_stage_preTrtMin'</li><li>'tumor_stage_preTrtMax'</li><li>'tumor_stage_postTrt'</li><li>'pam50'</li><li>'hist_grade'</li><li>'hist_gradeMax'</li><li>'hist_gradeMin'</li><li>'nuclear_grade_preTrt'</li><li>'path_diagnosis'</li><li>'path'</li><li>'chemosensitivity_prediction'</li><li>'pCR'</li><li>'near_pCR'</li><li>'pCR_spectrum'</li><li>'RCB'</li><li>'months_from_surgery_measured_RCB'</li><li>'months_until_first_event_or_last_checkup'</li><li>'RFS'</li><li>'RFS_months_or_MIN_months_of_RFS'</li><li>'DFS'</li><li>'DFS_months_or_MIN_months_of_DFS'</li><li>'OS'</li><li>'OS_months_or_MIN_months_of_OS'</li><li>'OS_up_until_death'</li><li>'metastasis'</li><li>'metastasis_months'</li><li>'relapseOneYearVsFivePlus'</li><li>'metastasis_stage_preTrt'</li><li>'dead'</li><li>'died_from_cancer_if_dead'</li><li>'age'</li><li>'age_bin_description'</li><li>'age_bin'</li><li>'race'</li><li>'nationality'</li><li>'menopausal_status'</li><li>'ER_preTrt'</li><li>'ER_percentage_preTrt'</li><li>'ER_expr_preTrt'</li><li>'ER_fmolmg_preTrt'</li><li>'ESR1_preTrt'</li><li>'ERbb2_preTrt'</li><li>'Erbeta_preTrt'</li><li>'ERBB2_CPN_amplified'</li><li>'PR_preTrt'</li><li>'PR_percentage_preTrt'</li><li>'PR_expr_preTrt'</li><li>'PR_fmolmg_preTrt'</li><li>'HER2_preTrt'</li><li>'HER2_IHC_score_preTrt'</li><li>'HER2_expr_preTrt'</li><li>'HER2_fish_cont_score_preTrt'</li><li>'HER2_SNP6_state'</li><li>'p53_mutation'</li><li>'p53_mutation_type'</li><li>'p53'</li><li>'PIK3CA_mutation'</li><li>'PTEN_pos'</li><li>'PTEN_mutation'</li><li>'cytokeratin5_pos'</li><li>'ploidy'</li><li>'top2atri_preTrt'</li><li>'topoihc_preTrt'</li><li>'S_phase'</li><li>'DNA_index'</li><li>'family_history'</li><li>'surgery_type'</li><li>'relapse_beforeYR1'</li><li>'relapseOneYearVsThreePlus'</li><li>'intarvenous'</li><li>'intramuscular'</li><li>'oral'</li><li>'radiotherapyClass'</li><li>'chemotherapyClass'</li><li>'hormone_therapyClass'</li><li>'postmenopausal_only'</li><li>'immediate_biol_target'</li><li>'anthracycline'</li><li>'taxane'</li><li>'anti_estrogen'</li><li>'aromatase_inhibitor'</li><li>'estrogen_receptor_blocker'</li><li>'estrogen_receptor_blocker_and_stops_production'</li><li>'estrogen_receptor_blocker_and_eliminator'</li><li>'anti_HER2'</li><li>'tamoxifen'</li><li>'doxorubicin'</li><li>'epirubicin'</li><li>'docetaxel'</li><li>'capecitabine'</li><li>'fluorouracil'</li><li>'paclitaxel'</li><li>'cyclophosphamide'</li><li>'anastrozole'</li><li>'fulvestrant'</li><li>'gefitinib'</li><li>'trastuzumab'</li><li>'letrozole'</li><li>'chemotherapy'</li><li>'hormone_therapy'</li><li>'no_treatment'</li><li>'methotrexate'</li><li>'cetuximab'</li><li>'carboplatin'</li><li>'other'</li><li>'taxaneGeneral'</li><li>'neoadjuvant_or_adjuvant'</li><li>'study_specific_protocol_number'</li></ol>\n"
      ],
      "text/latex": [
       "\\begin{enumerate*}\n",
       "\\item 'dbUniquePatientID'\n",
       "\\item 'study\\_ID'\n",
       "\\item 'patient\\_ID'\n",
       "\\item 'GEO\\_GSMID'\n",
       "\\item 'platform\\_ID'\n",
       "\\item 'GEO\\_platform\\_ID'\n",
       "\\item 'AE\\_platform\\_ID'\n",
       "\\item 'original\\_study\\_patient\\_ID'\n",
       "\\item 'site\\_ID'\n",
       "\\item 'site\\_ID\\_preprocessed'\n",
       "\\item 'biopsy\\_preTreat'\n",
       "\\item 'biopsy\\_postTrt\\_days'\n",
       "\\item 'pCR\\_postTrt\\_days'\n",
       "\\item 'tumor\\_size\\_cm\\_preTrt\\_preSurgery'\n",
       "\\item 'tumor\\_size\\_cm\\_secondAxis\\_preTrt\\_preSurgery'\n",
       "\\item 'tumor\\_size\\_cm\\_preTrt\\_preSurgeryMin'\n",
       "\\item 'tumor\\_size\\_cm\\_postTrt'\n",
       "\\item 'treatment\\_protocol\\_number'\n",
       "\\item 'clinical\\_AJCC\\_stage'\n",
       "\\item 'clinical\\_AJCC\\_stageRangeMin'\n",
       "\\item 'clinical\\_AJCC\\_stageRangeMax'\n",
       "\\item 'preTrt\\_lymph\\_node\\_status'\n",
       "\\item 'postTrt\\_lymph\\_node\\_status'\n",
       "\\item 'preTrt\\_totalLymphNodes'\n",
       "\\item 'preTrt\\_numPosLymphNodes'\n",
       "\\item 'preTrt\\_numPosLymphNodesRemoved'\n",
       "\\item 'postTrt\\_totalLymphNodes'\n",
       "\\item 'postTrt\\_numPosLymphNodes'\n",
       "\\item 'preTrt\\_posDichLymphNodes'\n",
       "\\item 'notthingham\\_prognostic\\_index'\n",
       "\\item 'tumor\\_stage\\_preTrt'\n",
       "\\item 'tumor\\_stage\\_preTrtMin'\n",
       "\\item 'tumor\\_stage\\_preTrtMax'\n",
       "\\item 'tumor\\_stage\\_postTrt'\n",
       "\\item 'pam50'\n",
       "\\item 'hist\\_grade'\n",
       "\\item 'hist\\_gradeMax'\n",
       "\\item 'hist\\_gradeMin'\n",
       "\\item 'nuclear\\_grade\\_preTrt'\n",
       "\\item 'path\\_diagnosis'\n",
       "\\item 'path'\n",
       "\\item 'chemosensitivity\\_prediction'\n",
       "\\item 'pCR'\n",
       "\\item 'near\\_pCR'\n",
       "\\item 'pCR\\_spectrum'\n",
       "\\item 'RCB'\n",
       "\\item 'months\\_from\\_surgery\\_measured\\_RCB'\n",
       "\\item 'months\\_until\\_first\\_event\\_or\\_last\\_checkup'\n",
       "\\item 'RFS'\n",
       "\\item 'RFS\\_months\\_or\\_MIN\\_months\\_of\\_RFS'\n",
       "\\item 'DFS'\n",
       "\\item 'DFS\\_months\\_or\\_MIN\\_months\\_of\\_DFS'\n",
       "\\item 'OS'\n",
       "\\item 'OS\\_months\\_or\\_MIN\\_months\\_of\\_OS'\n",
       "\\item 'OS\\_up\\_until\\_death'\n",
       "\\item 'metastasis'\n",
       "\\item 'metastasis\\_months'\n",
       "\\item 'relapseOneYearVsFivePlus'\n",
       "\\item 'metastasis\\_stage\\_preTrt'\n",
       "\\item 'dead'\n",
       "\\item 'died\\_from\\_cancer\\_if\\_dead'\n",
       "\\item 'age'\n",
       "\\item 'age\\_bin\\_description'\n",
       "\\item 'age\\_bin'\n",
       "\\item 'race'\n",
       "\\item 'nationality'\n",
       "\\item 'menopausal\\_status'\n",
       "\\item 'ER\\_preTrt'\n",
       "\\item 'ER\\_percentage\\_preTrt'\n",
       "\\item 'ER\\_expr\\_preTrt'\n",
       "\\item 'ER\\_fmolmg\\_preTrt'\n",
       "\\item 'ESR1\\_preTrt'\n",
       "\\item 'ERbb2\\_preTrt'\n",
       "\\item 'Erbeta\\_preTrt'\n",
       "\\item 'ERBB2\\_CPN\\_amplified'\n",
       "\\item 'PR\\_preTrt'\n",
       "\\item 'PR\\_percentage\\_preTrt'\n",
       "\\item 'PR\\_expr\\_preTrt'\n",
       "\\item 'PR\\_fmolmg\\_preTrt'\n",
       "\\item 'HER2\\_preTrt'\n",
       "\\item 'HER2\\_IHC\\_score\\_preTrt'\n",
       "\\item 'HER2\\_expr\\_preTrt'\n",
       "\\item 'HER2\\_fish\\_cont\\_score\\_preTrt'\n",
       "\\item 'HER2\\_SNP6\\_state'\n",
       "\\item 'p53\\_mutation'\n",
       "\\item 'p53\\_mutation\\_type'\n",
       "\\item 'p53'\n",
       "\\item 'PIK3CA\\_mutation'\n",
       "\\item 'PTEN\\_pos'\n",
       "\\item 'PTEN\\_mutation'\n",
       "\\item 'cytokeratin5\\_pos'\n",
       "\\item 'ploidy'\n",
       "\\item 'top2atri\\_preTrt'\n",
       "\\item 'topoihc\\_preTrt'\n",
       "\\item 'S\\_phase'\n",
       "\\item 'DNA\\_index'\n",
       "\\item 'family\\_history'\n",
       "\\item 'surgery\\_type'\n",
       "\\item 'relapse\\_beforeYR1'\n",
       "\\item 'relapseOneYearVsThreePlus'\n",
       "\\item 'intarvenous'\n",
       "\\item 'intramuscular'\n",
       "\\item 'oral'\n",
       "\\item 'radiotherapyClass'\n",
       "\\item 'chemotherapyClass'\n",
       "\\item 'hormone\\_therapyClass'\n",
       "\\item 'postmenopausal\\_only'\n",
       "\\item 'immediate\\_biol\\_target'\n",
       "\\item 'anthracycline'\n",
       "\\item 'taxane'\n",
       "\\item 'anti\\_estrogen'\n",
       "\\item 'aromatase\\_inhibitor'\n",
       "\\item 'estrogen\\_receptor\\_blocker'\n",
       "\\item 'estrogen\\_receptor\\_blocker\\_and\\_stops\\_production'\n",
       "\\item 'estrogen\\_receptor\\_blocker\\_and\\_eliminator'\n",
       "\\item 'anti\\_HER2'\n",
       "\\item 'tamoxifen'\n",
       "\\item 'doxorubicin'\n",
       "\\item 'epirubicin'\n",
       "\\item 'docetaxel'\n",
       "\\item 'capecitabine'\n",
       "\\item 'fluorouracil'\n",
       "\\item 'paclitaxel'\n",
       "\\item 'cyclophosphamide'\n",
       "\\item 'anastrozole'\n",
       "\\item 'fulvestrant'\n",
       "\\item 'gefitinib'\n",
       "\\item 'trastuzumab'\n",
       "\\item 'letrozole'\n",
       "\\item 'chemotherapy'\n",
       "\\item 'hormone\\_therapy'\n",
       "\\item 'no\\_treatment'\n",
       "\\item 'methotrexate'\n",
       "\\item 'cetuximab'\n",
       "\\item 'carboplatin'\n",
       "\\item 'other'\n",
       "\\item 'taxaneGeneral'\n",
       "\\item 'neoadjuvant\\_or\\_adjuvant'\n",
       "\\item 'study\\_specific\\_protocol\\_number'\n",
       "\\end{enumerate*}\n"
      ],
      "text/markdown": [
       "1. 'dbUniquePatientID'\n",
       "2. 'study_ID'\n",
       "3. 'patient_ID'\n",
       "4. 'GEO_GSMID'\n",
       "5. 'platform_ID'\n",
       "6. 'GEO_platform_ID'\n",
       "7. 'AE_platform_ID'\n",
       "8. 'original_study_patient_ID'\n",
       "9. 'site_ID'\n",
       "10. 'site_ID_preprocessed'\n",
       "11. 'biopsy_preTreat'\n",
       "12. 'biopsy_postTrt_days'\n",
       "13. 'pCR_postTrt_days'\n",
       "14. 'tumor_size_cm_preTrt_preSurgery'\n",
       "15. 'tumor_size_cm_secondAxis_preTrt_preSurgery'\n",
       "16. 'tumor_size_cm_preTrt_preSurgeryMin'\n",
       "17. 'tumor_size_cm_postTrt'\n",
       "18. 'treatment_protocol_number'\n",
       "19. 'clinical_AJCC_stage'\n",
       "20. 'clinical_AJCC_stageRangeMin'\n",
       "21. 'clinical_AJCC_stageRangeMax'\n",
       "22. 'preTrt_lymph_node_status'\n",
       "23. 'postTrt_lymph_node_status'\n",
       "24. 'preTrt_totalLymphNodes'\n",
       "25. 'preTrt_numPosLymphNodes'\n",
       "26. 'preTrt_numPosLymphNodesRemoved'\n",
       "27. 'postTrt_totalLymphNodes'\n",
       "28. 'postTrt_numPosLymphNodes'\n",
       "29. 'preTrt_posDichLymphNodes'\n",
       "30. 'notthingham_prognostic_index'\n",
       "31. 'tumor_stage_preTrt'\n",
       "32. 'tumor_stage_preTrtMin'\n",
       "33. 'tumor_stage_preTrtMax'\n",
       "34. 'tumor_stage_postTrt'\n",
       "35. 'pam50'\n",
       "36. 'hist_grade'\n",
       "37. 'hist_gradeMax'\n",
       "38. 'hist_gradeMin'\n",
       "39. 'nuclear_grade_preTrt'\n",
       "40. 'path_diagnosis'\n",
       "41. 'path'\n",
       "42. 'chemosensitivity_prediction'\n",
       "43. 'pCR'\n",
       "44. 'near_pCR'\n",
       "45. 'pCR_spectrum'\n",
       "46. 'RCB'\n",
       "47. 'months_from_surgery_measured_RCB'\n",
       "48. 'months_until_first_event_or_last_checkup'\n",
       "49. 'RFS'\n",
       "50. 'RFS_months_or_MIN_months_of_RFS'\n",
       "51. 'DFS'\n",
       "52. 'DFS_months_or_MIN_months_of_DFS'\n",
       "53. 'OS'\n",
       "54. 'OS_months_or_MIN_months_of_OS'\n",
       "55. 'OS_up_until_death'\n",
       "56. 'metastasis'\n",
       "57. 'metastasis_months'\n",
       "58. 'relapseOneYearVsFivePlus'\n",
       "59. 'metastasis_stage_preTrt'\n",
       "60. 'dead'\n",
       "61. 'died_from_cancer_if_dead'\n",
       "62. 'age'\n",
       "63. 'age_bin_description'\n",
       "64. 'age_bin'\n",
       "65. 'race'\n",
       "66. 'nationality'\n",
       "67. 'menopausal_status'\n",
       "68. 'ER_preTrt'\n",
       "69. 'ER_percentage_preTrt'\n",
       "70. 'ER_expr_preTrt'\n",
       "71. 'ER_fmolmg_preTrt'\n",
       "72. 'ESR1_preTrt'\n",
       "73. 'ERbb2_preTrt'\n",
       "74. 'Erbeta_preTrt'\n",
       "75. 'ERBB2_CPN_amplified'\n",
       "76. 'PR_preTrt'\n",
       "77. 'PR_percentage_preTrt'\n",
       "78. 'PR_expr_preTrt'\n",
       "79. 'PR_fmolmg_preTrt'\n",
       "80. 'HER2_preTrt'\n",
       "81. 'HER2_IHC_score_preTrt'\n",
       "82. 'HER2_expr_preTrt'\n",
       "83. 'HER2_fish_cont_score_preTrt'\n",
       "84. 'HER2_SNP6_state'\n",
       "85. 'p53_mutation'\n",
       "86. 'p53_mutation_type'\n",
       "87. 'p53'\n",
       "88. 'PIK3CA_mutation'\n",
       "89. 'PTEN_pos'\n",
       "90. 'PTEN_mutation'\n",
       "91. 'cytokeratin5_pos'\n",
       "92. 'ploidy'\n",
       "93. 'top2atri_preTrt'\n",
       "94. 'topoihc_preTrt'\n",
       "95. 'S_phase'\n",
       "96. 'DNA_index'\n",
       "97. 'family_history'\n",
       "98. 'surgery_type'\n",
       "99. 'relapse_beforeYR1'\n",
       "100. 'relapseOneYearVsThreePlus'\n",
       "101. 'intarvenous'\n",
       "102. 'intramuscular'\n",
       "103. 'oral'\n",
       "104. 'radiotherapyClass'\n",
       "105. 'chemotherapyClass'\n",
       "106. 'hormone_therapyClass'\n",
       "107. 'postmenopausal_only'\n",
       "108. 'immediate_biol_target'\n",
       "109. 'anthracycline'\n",
       "110. 'taxane'\n",
       "111. 'anti_estrogen'\n",
       "112. 'aromatase_inhibitor'\n",
       "113. 'estrogen_receptor_blocker'\n",
       "114. 'estrogen_receptor_blocker_and_stops_production'\n",
       "115. 'estrogen_receptor_blocker_and_eliminator'\n",
       "116. 'anti_HER2'\n",
       "117. 'tamoxifen'\n",
       "118. 'doxorubicin'\n",
       "119. 'epirubicin'\n",
       "120. 'docetaxel'\n",
       "121. 'capecitabine'\n",
       "122. 'fluorouracil'\n",
       "123. 'paclitaxel'\n",
       "124. 'cyclophosphamide'\n",
       "125. 'anastrozole'\n",
       "126. 'fulvestrant'\n",
       "127. 'gefitinib'\n",
       "128. 'trastuzumab'\n",
       "129. 'letrozole'\n",
       "130. 'chemotherapy'\n",
       "131. 'hormone_therapy'\n",
       "132. 'no_treatment'\n",
       "133. 'methotrexate'\n",
       "134. 'cetuximab'\n",
       "135. 'carboplatin'\n",
       "136. 'other'\n",
       "137. 'taxaneGeneral'\n",
       "138. 'neoadjuvant_or_adjuvant'\n",
       "139. 'study_specific_protocol_number'\n",
       "\n",
       "\n"
      ],
      "text/plain": [
       "  [1] \"dbUniquePatientID\"                             \n",
       "  [2] \"study_ID\"                                      \n",
       "  [3] \"patient_ID\"                                    \n",
       "  [4] \"GEO_GSMID\"                                     \n",
       "  [5] \"platform_ID\"                                   \n",
       "  [6] \"GEO_platform_ID\"                               \n",
       "  [7] \"AE_platform_ID\"                                \n",
       "  [8] \"original_study_patient_ID\"                     \n",
       "  [9] \"site_ID\"                                       \n",
       " [10] \"site_ID_preprocessed\"                          \n",
       " [11] \"biopsy_preTreat\"                               \n",
       " [12] \"biopsy_postTrt_days\"                           \n",
       " [13] \"pCR_postTrt_days\"                              \n",
       " [14] \"tumor_size_cm_preTrt_preSurgery\"               \n",
       " [15] \"tumor_size_cm_secondAxis_preTrt_preSurgery\"    \n",
       " [16] \"tumor_size_cm_preTrt_preSurgeryMin\"            \n",
       " [17] \"tumor_size_cm_postTrt\"                         \n",
       " [18] \"treatment_protocol_number\"                     \n",
       " [19] \"clinical_AJCC_stage\"                           \n",
       " [20] \"clinical_AJCC_stageRangeMin\"                   \n",
       " [21] \"clinical_AJCC_stageRangeMax\"                   \n",
       " [22] \"preTrt_lymph_node_status\"                      \n",
       " [23] \"postTrt_lymph_node_status\"                     \n",
       " [24] \"preTrt_totalLymphNodes\"                        \n",
       " [25] \"preTrt_numPosLymphNodes\"                       \n",
       " [26] \"preTrt_numPosLymphNodesRemoved\"                \n",
       " [27] \"postTrt_totalLymphNodes\"                       \n",
       " [28] \"postTrt_numPosLymphNodes\"                      \n",
       " [29] \"preTrt_posDichLymphNodes\"                      \n",
       " [30] \"notthingham_prognostic_index\"                  \n",
       " [31] \"tumor_stage_preTrt\"                            \n",
       " [32] \"tumor_stage_preTrtMin\"                         \n",
       " [33] \"tumor_stage_preTrtMax\"                         \n",
       " [34] \"tumor_stage_postTrt\"                           \n",
       " [35] \"pam50\"                                         \n",
       " [36] \"hist_grade\"                                    \n",
       " [37] \"hist_gradeMax\"                                 \n",
       " [38] \"hist_gradeMin\"                                 \n",
       " [39] \"nuclear_grade_preTrt\"                          \n",
       " [40] \"path_diagnosis\"                                \n",
       " [41] \"path\"                                          \n",
       " [42] \"chemosensitivity_prediction\"                   \n",
       " [43] \"pCR\"                                           \n",
       " [44] \"near_pCR\"                                      \n",
       " [45] \"pCR_spectrum\"                                  \n",
       " [46] \"RCB\"                                           \n",
       " [47] \"months_from_surgery_measured_RCB\"              \n",
       " [48] \"months_until_first_event_or_last_checkup\"      \n",
       " [49] \"RFS\"                                           \n",
       " [50] \"RFS_months_or_MIN_months_of_RFS\"               \n",
       " [51] \"DFS\"                                           \n",
       " [52] \"DFS_months_or_MIN_months_of_DFS\"               \n",
       " [53] \"OS\"                                            \n",
       " [54] \"OS_months_or_MIN_months_of_OS\"                 \n",
       " [55] \"OS_up_until_death\"                             \n",
       " [56] \"metastasis\"                                    \n",
       " [57] \"metastasis_months\"                             \n",
       " [58] \"relapseOneYearVsFivePlus\"                      \n",
       " [59] \"metastasis_stage_preTrt\"                       \n",
       " [60] \"dead\"                                          \n",
       " [61] \"died_from_cancer_if_dead\"                      \n",
       " [62] \"age\"                                           \n",
       " [63] \"age_bin_description\"                           \n",
       " [64] \"age_bin\"                                       \n",
       " [65] \"race\"                                          \n",
       " [66] \"nationality\"                                   \n",
       " [67] \"menopausal_status\"                             \n",
       " [68] \"ER_preTrt\"                                     \n",
       " [69] \"ER_percentage_preTrt\"                          \n",
       " [70] \"ER_expr_preTrt\"                                \n",
       " [71] \"ER_fmolmg_preTrt\"                              \n",
       " [72] \"ESR1_preTrt\"                                   \n",
       " [73] \"ERbb2_preTrt\"                                  \n",
       " [74] \"Erbeta_preTrt\"                                 \n",
       " [75] \"ERBB2_CPN_amplified\"                           \n",
       " [76] \"PR_preTrt\"                                     \n",
       " [77] \"PR_percentage_preTrt\"                          \n",
       " [78] \"PR_expr_preTrt\"                                \n",
       " [79] \"PR_fmolmg_preTrt\"                              \n",
       " [80] \"HER2_preTrt\"                                   \n",
       " [81] \"HER2_IHC_score_preTrt\"                         \n",
       " [82] \"HER2_expr_preTrt\"                              \n",
       " [83] \"HER2_fish_cont_score_preTrt\"                   \n",
       " [84] \"HER2_SNP6_state\"                               \n",
       " [85] \"p53_mutation\"                                  \n",
       " [86] \"p53_mutation_type\"                             \n",
       " [87] \"p53\"                                           \n",
       " [88] \"PIK3CA_mutation\"                               \n",
       " [89] \"PTEN_pos\"                                      \n",
       " [90] \"PTEN_mutation\"                                 \n",
       " [91] \"cytokeratin5_pos\"                              \n",
       " [92] \"ploidy\"                                        \n",
       " [93] \"top2atri_preTrt\"                               \n",
       " [94] \"topoihc_preTrt\"                                \n",
       " [95] \"S_phase\"                                       \n",
       " [96] \"DNA_index\"                                     \n",
       " [97] \"family_history\"                                \n",
       " [98] \"surgery_type\"                                  \n",
       " [99] \"relapse_beforeYR1\"                             \n",
       "[100] \"relapseOneYearVsThreePlus\"                     \n",
       "[101] \"intarvenous\"                                   \n",
       "[102] \"intramuscular\"                                 \n",
       "[103] \"oral\"                                          \n",
       "[104] \"radiotherapyClass\"                             \n",
       "[105] \"chemotherapyClass\"                             \n",
       "[106] \"hormone_therapyClass\"                          \n",
       "[107] \"postmenopausal_only\"                           \n",
       "[108] \"immediate_biol_target\"                         \n",
       "[109] \"anthracycline\"                                 \n",
       "[110] \"taxane\"                                        \n",
       "[111] \"anti_estrogen\"                                 \n",
       "[112] \"aromatase_inhibitor\"                           \n",
       "[113] \"estrogen_receptor_blocker\"                     \n",
       "[114] \"estrogen_receptor_blocker_and_stops_production\"\n",
       "[115] \"estrogen_receptor_blocker_and_eliminator\"      \n",
       "[116] \"anti_HER2\"                                     \n",
       "[117] \"tamoxifen\"                                     \n",
       "[118] \"doxorubicin\"                                   \n",
       "[119] \"epirubicin\"                                    \n",
       "[120] \"docetaxel\"                                     \n",
       "[121] \"capecitabine\"                                  \n",
       "[122] \"fluorouracil\"                                  \n",
       "[123] \"paclitaxel\"                                    \n",
       "[124] \"cyclophosphamide\"                              \n",
       "[125] \"anastrozole\"                                   \n",
       "[126] \"fulvestrant\"                                   \n",
       "[127] \"gefitinib\"                                     \n",
       "[128] \"trastuzumab\"                                   \n",
       "[129] \"letrozole\"                                     \n",
       "[130] \"chemotherapy\"                                  \n",
       "[131] \"hormone_therapy\"                               \n",
       "[132] \"no_treatment\"                                  \n",
       "[133] \"methotrexate\"                                  \n",
       "[134] \"cetuximab\"                                     \n",
       "[135] \"carboplatin\"                                   \n",
       "[136] \"other\"                                         \n",
       "[137] \"taxaneGeneral\"                                 \n",
       "[138] \"neoadjuvant_or_adjuvant\"                       \n",
       "[139] \"study_specific_protocol_number\"                "
      ]
     },
     "metadata": {},
     "output_type": "display_data"
    }
   ],
   "source": [
    "# Load the curatedBreastData clinical data\n",
    "data(clinicalData)\n",
    "\n",
    "# Extract the clinical data table\n",
    "clinical_df <- clinicalData$clinicalTable\n",
    "\n",
    "# Explore survival data availability\n",
    "cat(\"Total number of samples:\", nrow(clinical_df), \"\\n\")\n",
    "cat(\"Samples with Overall Survival (OS) data:\", sum(!is.na(clinical_df$OS)), \"\\n\")\n",
    "cat(\"Samples with OS months data:\", sum(!is.na(clinical_df$OS_months_or_MIN_months_of_OS)), \"\\n\")\n",
    "cat(\"Samples with definitive follow-up until death:\", sum(!is.na(clinical_df$OS_up_until_death)), \"\\n\")\n",
    "\n",
    "colnames(clinicalData$clinicalTable)\n"
   ]
  },
  {
   "cell_type": "markdown",
   "id": "792ccef0",
   "metadata": {},
   "source": [
    "The following code restricts the data to a clean subset with only a few covariates for the purposes of this assignment."
   ]
  },
  {
   "cell_type": "code",
   "execution_count": 12,
   "id": "dc034c3e",
   "metadata": {
    "execution": {
     "iopub.execute_input": "2025-04-15T00:05:58.652602Z",
     "iopub.status.busy": "2025-04-15T00:05:58.652172Z",
     "iopub.status.idle": "2025-04-15T00:05:58.669269Z",
     "shell.execute_reply": "2025-04-15T00:05:58.668693Z"
    },
    "vscode": {
     "languageId": "r"
    }
   },
   "outputs": [
    {
     "name": "stdout",
     "output_type": "stream",
     "text": [
      "\n",
      "Number of complete cases for Cox model: 127 \n",
      "\n",
      "Summary of our filtered dataset:\n",
      "       OS        OS_months_or_MIN_months_of_OS HER2_preTrt      age       \n",
      " Min.   :0.000   Min.   :10.00                 0:84        Min.   :29.00  \n",
      " 1st Qu.:1.000   1st Qu.:40.50                 1:43        1st Qu.:42.00  \n",
      " Median :1.000   Median :49.00                             Median :48.00  \n",
      " Mean   :0.811   Mean   :49.35                             Mean   :48.05  \n",
      " 3rd Qu.:1.000   3rd Qu.:62.50                             3rd Qu.:53.00  \n",
      " Max.   :1.000   Max.   :87.00                             Max.   :65.00  \n"
     ]
    }
   ],
   "source": [
    "# Create the dataset for analysis\n",
    "surv_data <- clinical_df %>%\n",
    "  select(\n",
    "    OS,\n",
    "    OS_months_or_MIN_months_of_OS,\n",
    "    HER2_preTrt,\n",
    "    age,\n",
    "  ) %>%\n",
    "  # Filter to only include complete cases for these key variables\n",
    "  filter(\n",
    "    !is.na(OS),\n",
    "    !is.na(OS_months_or_MIN_months_of_OS),\n",
    "    !is.na(HER2_preTrt),\n",
    "    !is.na(age)\n",
    "  )\n",
    "\n",
    "# Check how many complete cases we have\n",
    "cat(\"\\nNumber of complete cases for Cox model:\", nrow(surv_data), \"\\n\")\n",
    "\n",
    "# Convert categorical variables to factors\n",
    "surv_data$HER2_preTrt <- factor(surv_data$HER2_preTrt)\n",
    "\n",
    "# Display summary statistics\n",
    "cat(\"\\nSummary of our filtered dataset:\\n\")\n",
    "print(summary(surv_data))"
   ]
  },
  {
   "cell_type": "markdown",
   "id": "d05de514",
   "metadata": {},
   "source": [
    "How many patients are there in the cleaned dataset?"
   ]
  },
  {
   "cell_type": "markdown",
   "id": "2d2f2822",
   "metadata": {},
   "source": [
    "## Question iii\n",
    "\n",
    "Use the R function to fit this data to the cox proportional hazards model on the full dataset. \n",
    "Plot the mean survival function (which is the complement of the cumulative distribution function of survival times)."
   ]
  },
  {
   "cell_type": "code",
   "execution_count": 13,
   "id": "d3fc7334",
   "metadata": {
    "execution": {
     "iopub.execute_input": "2025-04-15T00:05:58.671267Z",
     "iopub.status.busy": "2025-04-15T00:05:58.670830Z",
     "iopub.status.idle": "2025-04-15T00:05:58.759082Z",
     "shell.execute_reply": "2025-04-15T00:05:58.732801Z"
    },
    "vscode": {
     "languageId": "r"
    }
   },
   "outputs": [
    {
     "name": "stdout",
     "output_type": "stream",
     "text": [
      "Call:\n",
      "coxph(formula = cox_formula, data = surv_data)\n",
      "\n",
      "  n= 127, number of events= 103 \n",
      "\n",
      "                 coef exp(coef) se(coef)     z Pr(>|z|)\n",
      "HER2_preTrt1 0.275239  1.316845 0.216097 1.274    0.203\n",
      "age          0.006778  1.006801 0.013181 0.514    0.607\n",
      "\n",
      "             exp(coef) exp(-coef) lower .95 upper .95\n",
      "HER2_preTrt1     1.317     0.7594    0.8622     2.011\n",
      "age              1.007     0.9932    0.9811     1.033\n",
      "\n",
      "Concordance= 0.521  (se = 0.032 )\n",
      "Likelihood ratio test= 1.68  on 2 df,   p=0.4\n",
      "Wald test            = 1.71  on 2 df,   p=0.4\n",
      "Score (logrank) test = 1.72  on 2 df,   p=0.4\n",
      "\n"
     ]
    },
    {
     "data": {
      "image/png": "[encoded data removed]",
      "text/plain": [
       "Plot with title \"Survival Curves\""
      ]
     },
     "metadata": {
      "image/png": {
       "height": 420,
       "width": 420
      }
     },
     "output_type": "display_data"
    }
   ],
   "source": [
    "\n",
    "# Fit Cox Proportional Hazards model with the selected variables\n",
    "cox_formula <- Surv(OS_months_or_MIN_months_of_OS, OS) ~ \n",
    "  HER2_preTrt + \n",
    "  age\n",
    "\n",
    "# Initial model fit\n",
    "initial_cox_model <- coxph(cox_formula, data = surv_data)\n",
    "print(summary(initial_cox_model))\n",
    "\n",
    "# Survival curve for average covariates (mean of training set)\n",
    "sf_mean <- survfit(initial_cox_model)\n",
    "\n",
    "plot(sf_mean, col = \"blue\", lty = 2, xlab = \"Time\", ylab = \"Survival Probability\",\n",
    "     main = \"Survival Curves\")\n"
   ]
  },
  {
   "cell_type": "markdown",
   "id": "74d0030d",
   "metadata": {},
   "source": [
    "## Question iv\n",
    "\n",
    "Suppose a new patient (called `fictitious_patient`) has the following information. "
   ]
  },
  {
   "cell_type": "code",
   "execution_count": 14,
   "id": "a4bcf486",
   "metadata": {
    "execution": {
     "iopub.execute_input": "2025-04-15T00:05:58.761251Z",
     "iopub.status.busy": "2025-04-15T00:05:58.760773Z",
     "iopub.status.idle": "2025-04-15T00:05:58.766328Z",
     "shell.execute_reply": "2025-04-15T00:05:58.765724Z"
    },
    "vscode": {
     "languageId": "r"
    }
   },
   "outputs": [],
   "source": [
    "\n",
    "fictitious_patient <- surv_data[1, , drop = FALSE]  # copy structure\n",
    "fictitious_patient$HER2_preTrt <- factor(\"1\", levels = levels(surv_data$HER2_preTrt))\n",
    "fictitious_patient$age <- 45\n"
   ]
  },
  {
   "cell_type": "markdown",
   "id": "eface89a",
   "metadata": {},
   "source": [
    "According to the cox model you learned from the public dataset, what is their 3-year survival probability?"
   ]
  },
  {
   "cell_type": "code",
   "execution_count": 15,
   "id": "c6d66304",
   "metadata": {
    "execution": {
     "iopub.execute_input": "2025-04-15T00:05:58.768408Z",
     "iopub.status.busy": "2025-04-15T00:05:58.767939Z",
     "iopub.status.idle": "2025-04-15T00:05:58.776449Z",
     "shell.execute_reply": "2025-04-15T00:05:58.775878Z"
    },
    "vscode": {
     "languageId": "r"
    }
   },
   "outputs": [
    {
     "name": "stdout",
     "output_type": "stream",
     "text": [
      "\n",
      "3-year survival probability for fictitious patient: 91 %\n"
     ]
    }
   ],
   "source": [
    "# Survival curve for the fictitious patient\n",
    "sf_fict <- survfit(initial_cox_model, newdata = fictitious_patient)\n",
    "\n",
    "three_years_in_months <- 3*12\n",
    "\n",
    "# Find the closest time point to 3 years in the survival curve\n",
    "closest_time_idx <- which.min(abs(sf_fict$time - three_years_in_months))\n",
    "three_year_surv_prob <- sf_fict$surv[closest_time_idx]\n",
    "\n",
    "cat(\"\\n3-year survival probability for fictitious patient:\", \n",
    "    round(three_year_surv_prob * 100, 1), \"%\\n\")"
   ]
  },
  {
   "cell_type": "markdown",
   "id": "df42f9e4",
   "metadata": {},
   "source": [
    "## Question v\n",
    "\n",
    "Perform a Bootstrap by repeating the cox learning algorithm, with `n_bootstrap = 200` resamplings of the patient data.\n",
    "What is the standard deviation of the estimate of the 3-year survival probability? \n",
    "Note this is assuming you have data on `nrow(surv_data)` patients."
   ]
  },
  {
   "cell_type": "code",
   "execution_count": 16,
   "id": "a2a0ae04",
   "metadata": {
    "execution": {
     "iopub.execute_input": "2025-04-15T00:05:58.778558Z",
     "iopub.status.busy": "2025-04-15T00:05:58.778047Z",
     "iopub.status.idle": "2025-04-15T00:05:58.782546Z",
     "shell.execute_reply": "2025-04-15T00:05:58.781965Z"
    },
    "lines_to_next_cell": 2,
    "vscode": {
     "languageId": "r"
    }
   },
   "outputs": [],
   "source": [
    "\n",
    "# Bootstrap with n_bootstrap = 200 and sample_size = nrow(surv_data)\n"
   ]
  },
  {
   "cell_type": "markdown",
   "id": "3c1b965b",
   "metadata": {},
   "source": [
    "## Question vi\n",
    "\n",
    "Repeat the Bootstrap but for `sample_sizes <- 50:200`.\n",
    "How many patient samples would be needed to estimate the Fictitious Patient's 3-year survival probability to within 5%?"
   ]
  },
  {
   "cell_type": "code",
   "execution_count": 17,
   "id": "4f0a00ea",
   "metadata": {
    "execution": {
     "iopub.execute_input": "2025-04-15T00:05:58.784513Z",
     "iopub.status.busy": "2025-04-15T00:05:58.784082Z",
     "iopub.status.idle": "2025-04-15T00:05:58.788263Z",
     "shell.execute_reply": "2025-04-15T00:05:58.787671Z"
    },
    "lines_to_next_cell": 0,
    "vscode": {
     "languageId": "r"
    }
   },
   "outputs": [],
   "source": [
    "# Bootstrap for sample sizes from 50 to 200"
   ]
  },
  {
   "cell_type": "markdown",
   "id": "f700783e",
   "metadata": {},
   "source": [
    "\n"
   ]
  }
 ],
 "metadata": {
  "kernelspec": {
   "display_name": "R",
   "language": "R",
   "name": "ir"
  },
  "language_info": {
   "codemirror_mode": "r",
   "file_extension": ".r",
   "mimetype": "text/x-r-source",
   "name": "R",
   "pygments_lexer": "r",
   "version": "4.5.0"
  }
 },
 "nbformat": 4,
 "nbformat_minor": 5
}
